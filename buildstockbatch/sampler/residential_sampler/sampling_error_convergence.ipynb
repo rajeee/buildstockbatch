{
 "cells": [
  {
   "cell_type": "code",
   "execution_count": 17,
   "metadata": {},
   "outputs": [],
   "source": [
    "import plotly\n",
    "import pandas as pd\n",
    "import pathlib\n",
    "import plotly.express as px\n",
    "from buildstockbatch.sampler.residential_sampler.sampling_utils import get_all_tsv_max_errors\n",
    "import math"
   ]
  },
  {
   "cell_type": "code",
   "execution_count": 2,
   "metadata": {},
   "outputs": [],
   "source": [
    "project = '/Users/radhikar/Documents/resstock/project_national'"
   ]
  },
  {
   "cell_type": "code",
   "execution_count": 63,
   "metadata": {},
   "outputs": [],
   "source": [
    "run_sizes = ['1K', '10K', '100K', '350K', '550K', '1M', '10M']"
   ]
  },
  {
   "cell_type": "code",
   "execution_count": 21,
   "metadata": {},
   "outputs": [
    {
     "name": "stdout",
     "output_type": "stream",
     "text": [
      "Reading project_national_python_1K.csv\n",
      "Calculating Errors\n",
      "Reading project_national_python_10K.csv\n",
      "Calculating Errors\n",
      "Reading project_national_python_100K.csv\n"
     ]
    },
    {
     "name": "stderr",
     "output_type": "stream",
     "text": [
      "/var/folders/b1/lgrrnns50qd4q97clnst5d9xc6dz32/T/ipykernel_93246/954507848.py:6: DtypeWarning:\n",
      "\n",
      "Columns (112) have mixed types. Specify dtype option on import or set low_memory=False.\n",
      "\n"
     ]
    },
    {
     "name": "stdout",
     "output_type": "stream",
     "text": [
      "Calculating Errors\n",
      "Reading project_national_python_350K.csv\n"
     ]
    },
    {
     "name": "stderr",
     "output_type": "stream",
     "text": [
      "/var/folders/b1/lgrrnns50qd4q97clnst5d9xc6dz32/T/ipykernel_93246/954507848.py:6: DtypeWarning:\n",
      "\n",
      "Columns (112) have mixed types. Specify dtype option on import or set low_memory=False.\n",
      "\n"
     ]
    },
    {
     "name": "stdout",
     "output_type": "stream",
     "text": [
      "Calculating Errors\n",
      "Reading project_national_python_550K.csv\n"
     ]
    },
    {
     "name": "stderr",
     "output_type": "stream",
     "text": [
      "/var/folders/b1/lgrrnns50qd4q97clnst5d9xc6dz32/T/ipykernel_93246/954507848.py:6: DtypeWarning:\n",
      "\n",
      "Columns (112) have mixed types. Specify dtype option on import or set low_memory=False.\n",
      "\n"
     ]
    },
    {
     "name": "stdout",
     "output_type": "stream",
     "text": [
      "Calculating Errors\n",
      "Reading project_national_python_1M.csv\n"
     ]
    },
    {
     "name": "stderr",
     "output_type": "stream",
     "text": [
      "/var/folders/b1/lgrrnns50qd4q97clnst5d9xc6dz32/T/ipykernel_93246/954507848.py:6: DtypeWarning:\n",
      "\n",
      "Columns (112) have mixed types. Specify dtype option on import or set low_memory=False.\n",
      "\n"
     ]
    },
    {
     "name": "stdout",
     "output_type": "stream",
     "text": [
      "Calculating Errors\n",
      "Reading project_national_python_10M.csv\n"
     ]
    },
    {
     "name": "stderr",
     "output_type": "stream",
     "text": [
      "/var/folders/b1/lgrrnns50qd4q97clnst5d9xc6dz32/T/ipykernel_93246/954507848.py:6: DtypeWarning:\n",
      "\n",
      "Columns (112) have mixed types. Specify dtype option on import or set low_memory=False.\n",
      "\n"
     ]
    },
    {
     "name": "stdout",
     "output_type": "stream",
     "text": [
      "Calculating Errors\n",
      "Combining all and writing\n"
     ]
    }
   ],
   "source": [
    "all_error_dfs = []\n",
    "run_sizes = ['1K', '10K', '100K', '350K', '550K', '1M', '10M']\n",
    "for run in run_sizes:\n",
    "    for version in ['python']:\n",
    "        buildstock_file = f'project_national_{version}_{run}.csv'\n",
    "        print(f\"Reading {buildstock_file}\")\n",
    "        buildstock_df = pd.read_csv(buildstock_file)\n",
    "        buildstock_df = buildstock_df.astype(str)\n",
    "        print(\"Calculating Errors\")\n",
    "        error_df = get_all_tsv_max_errors(sample_df=buildstock_df, project_dir=pathlib.Path(project))\n",
    "        error_df['version'] = version\n",
    "        error_df['run'] = run\n",
    "        all_error_dfs.append(error_df)\n",
    "print(\"Combining all and writing\")\n",
    "final_df = pd.concat(all_error_dfs)\n",
    "final_df.to_csv(\"all_errors_convergence.csv\")"
   ]
  },
  {
   "cell_type": "code",
   "execution_count": 22,
   "metadata": {},
   "outputs": [],
   "source": [
    "error_df = pd.read_csv(\"all_errors_convergence.csv\")"
   ]
  },
  {
   "cell_type": "code",
   "execution_count": null,
   "metadata": {},
   "outputs": [],
   "source": []
  },
  {
   "cell_type": "code",
   "execution_count": 23,
   "metadata": {},
   "outputs": [
    {
     "data": {
      "text/html": [
       "<div>\n",
       "<style scoped>\n",
       "    .dataframe tbody tr th:only-of-type {\n",
       "        vertical-align: middle;\n",
       "    }\n",
       "\n",
       "    .dataframe tbody tr th {\n",
       "        vertical-align: top;\n",
       "    }\n",
       "\n",
       "    .dataframe thead th {\n",
       "        text-align: right;\n",
       "    }\n",
       "</style>\n",
       "<table border=\"1\" class=\"dataframe\">\n",
       "  <thead>\n",
       "    <tr style=\"text-align: right;\">\n",
       "      <th></th>\n",
       "      <th>Unnamed: 0</th>\n",
       "      <th>max_group_error</th>\n",
       "      <th>max_group_error_group</th>\n",
       "      <th>total_group_error</th>\n",
       "      <th>max_option_error</th>\n",
       "      <th>max_option_error_option</th>\n",
       "      <th>total_option_error</th>\n",
       "      <th>version</th>\n",
       "      <th>run</th>\n",
       "    </tr>\n",
       "  </thead>\n",
       "  <tbody>\n",
       "    <tr>\n",
       "      <th>49</th>\n",
       "      <td>Heating Fuel</td>\n",
       "      <td>0.001533</td>\n",
       "      <td>('Multi-Family with 5+ Units', 'NY, 03806', '&lt;...</td>\n",
       "      <td>1.828808</td>\n",
       "      <td>0.238666</td>\n",
       "      <td>Natural Gas</td>\n",
       "      <td>0.501197</td>\n",
       "      <td>python</td>\n",
       "      <td>1K</td>\n",
       "    </tr>\n",
       "    <tr>\n",
       "      <th>128</th>\n",
       "      <td>Income</td>\n",
       "      <td>0.000975</td>\n",
       "      <td>('Single-Family Detached', 'GA, 03600', 'Owner...</td>\n",
       "      <td>1.826875</td>\n",
       "      <td>0.322753</td>\n",
       "      <td>80000-99999</td>\n",
       "      <td>1.207055</td>\n",
       "      <td>python</td>\n",
       "      <td>1K</td>\n",
       "    </tr>\n",
       "    <tr>\n",
       "      <th>129</th>\n",
       "      <td>Geometry Floor Area</td>\n",
       "      <td>0.034424</td>\n",
       "      <td>('South Atlantic', 'Single-Family Detached', '...</td>\n",
       "      <td>1.446269</td>\n",
       "      <td>0.097143</td>\n",
       "      <td>750-999</td>\n",
       "      <td>0.443518</td>\n",
       "      <td>python</td>\n",
       "      <td>1K</td>\n",
       "    </tr>\n",
       "    <tr>\n",
       "      <th>64</th>\n",
       "      <td>Occupants</td>\n",
       "      <td>0.041785</td>\n",
       "      <td>('3', 'South Atlantic', 'Single-Family Detache...</td>\n",
       "      <td>1.443092</td>\n",
       "      <td>0.148951</td>\n",
       "      <td>1</td>\n",
       "      <td>0.369047</td>\n",
       "      <td>python</td>\n",
       "      <td>1K</td>\n",
       "    </tr>\n",
       "    <tr>\n",
       "      <th>62</th>\n",
       "      <td>Vintage</td>\n",
       "      <td>0.001437</td>\n",
       "      <td>('Single-Family Detached', 'AZ, 00500')</td>\n",
       "      <td>1.425296</td>\n",
       "      <td>0.136973</td>\n",
       "      <td>&lt;1940</td>\n",
       "      <td>0.613079</td>\n",
       "      <td>python</td>\n",
       "      <td>1K</td>\n",
       "    </tr>\n",
       "    <tr>\n",
       "      <th>...</th>\n",
       "      <td>...</td>\n",
       "      <td>...</td>\n",
       "      <td>...</td>\n",
       "      <td>...</td>\n",
       "      <td>...</td>\n",
       "      <td>...</td>\n",
       "      <td>...</td>\n",
       "      <td>...</td>\n",
       "      <td>...</td>\n",
       "    </tr>\n",
       "    <tr>\n",
       "      <th>196</th>\n",
       "      <td>Orientation</td>\n",
       "      <td>0.000000</td>\n",
       "      <td>()</td>\n",
       "      <td>0.000000</td>\n",
       "      <td>0.000051</td>\n",
       "      <td>Northwest</td>\n",
       "      <td>0.000204</td>\n",
       "      <td>python</td>\n",
       "      <td>10K</td>\n",
       "    </tr>\n",
       "    <tr>\n",
       "      <th>198</th>\n",
       "      <td>Schedules</td>\n",
       "      <td>0.000000</td>\n",
       "      <td>()</td>\n",
       "      <td>0.000000</td>\n",
       "      <td>0.000000</td>\n",
       "      <td>Stochastic</td>\n",
       "      <td>0.000000</td>\n",
       "      <td>python</td>\n",
       "      <td>10K</td>\n",
       "    </tr>\n",
       "    <tr>\n",
       "      <th>604</th>\n",
       "      <td>Misc Gas Fireplace</td>\n",
       "      <td>0.000000</td>\n",
       "      <td>()</td>\n",
       "      <td>0.000000</td>\n",
       "      <td>0.000000</td>\n",
       "      <td>Gas Fireplace</td>\n",
       "      <td>0.000000</td>\n",
       "      <td>python</td>\n",
       "      <td>550K</td>\n",
       "    </tr>\n",
       "    <tr>\n",
       "      <th>30</th>\n",
       "      <td>HVAC Secondary Heating Type And Fuel</td>\n",
       "      <td>0.000000</td>\n",
       "      <td>()</td>\n",
       "      <td>0.000000</td>\n",
       "      <td>0.000000</td>\n",
       "      <td>None</td>\n",
       "      <td>0.000000</td>\n",
       "      <td>python</td>\n",
       "      <td>1K</td>\n",
       "    </tr>\n",
       "    <tr>\n",
       "      <th>138</th>\n",
       "      <td>Eaves</td>\n",
       "      <td>0.000000</td>\n",
       "      <td>()</td>\n",
       "      <td>0.000000</td>\n",
       "      <td>0.000000</td>\n",
       "      <td>2 ft</td>\n",
       "      <td>0.000000</td>\n",
       "      <td>python</td>\n",
       "      <td>10K</td>\n",
       "    </tr>\n",
       "  </tbody>\n",
       "</table>\n",
       "<p>931 rows × 9 columns</p>\n",
       "</div>"
      ],
      "text/plain": [
       "                               Unnamed: 0  max_group_error  \\\n",
       "49                           Heating Fuel         0.001533   \n",
       "128                                Income         0.000975   \n",
       "129                   Geometry Floor Area         0.034424   \n",
       "64                              Occupants         0.041785   \n",
       "62                                Vintage         0.001437   \n",
       "..                                    ...              ...   \n",
       "196                           Orientation         0.000000   \n",
       "198                             Schedules         0.000000   \n",
       "604                    Misc Gas Fireplace         0.000000   \n",
       "30   HVAC Secondary Heating Type And Fuel         0.000000   \n",
       "138                                 Eaves         0.000000   \n",
       "\n",
       "                                 max_group_error_group  total_group_error  \\\n",
       "49   ('Multi-Family with 5+ Units', 'NY, 03806', '<...           1.828808   \n",
       "128  ('Single-Family Detached', 'GA, 03600', 'Owner...           1.826875   \n",
       "129  ('South Atlantic', 'Single-Family Detached', '...           1.446269   \n",
       "64   ('3', 'South Atlantic', 'Single-Family Detache...           1.443092   \n",
       "62             ('Single-Family Detached', 'AZ, 00500')           1.425296   \n",
       "..                                                 ...                ...   \n",
       "196                                                 ()           0.000000   \n",
       "198                                                 ()           0.000000   \n",
       "604                                                 ()           0.000000   \n",
       "30                                                  ()           0.000000   \n",
       "138                                                 ()           0.000000   \n",
       "\n",
       "     max_option_error max_option_error_option  total_option_error version  \\\n",
       "49           0.238666             Natural Gas            0.501197  python   \n",
       "128          0.322753             80000-99999            1.207055  python   \n",
       "129          0.097143                 750-999            0.443518  python   \n",
       "64           0.148951                       1            0.369047  python   \n",
       "62           0.136973                   <1940            0.613079  python   \n",
       "..                ...                     ...                 ...     ...   \n",
       "196          0.000051               Northwest            0.000204  python   \n",
       "198          0.000000              Stochastic            0.000000  python   \n",
       "604          0.000000           Gas Fireplace            0.000000  python   \n",
       "30           0.000000                    None            0.000000  python   \n",
       "138          0.000000                    2 ft            0.000000  python   \n",
       "\n",
       "      run  \n",
       "49     1K  \n",
       "128    1K  \n",
       "129    1K  \n",
       "64     1K  \n",
       "62     1K  \n",
       "..    ...  \n",
       "196   10K  \n",
       "198   10K  \n",
       "604  550K  \n",
       "30     1K  \n",
       "138   10K  \n",
       "\n",
       "[931 rows x 9 columns]"
      ]
     },
     "execution_count": 23,
     "metadata": {},
     "output_type": "execute_result"
    }
   ],
   "source": [
    "error_df.sort_values(by='total_group_error', ascending=False)"
   ]
  },
  {
   "cell_type": "code",
   "execution_count": null,
   "metadata": {},
   "outputs": [],
   "source": [
    "lam"
   ]
  },
  {
   "cell_type": "code",
   "execution_count": 24,
   "metadata": {},
   "outputs": [],
   "source": [
    "def get_size(run_name):\n",
    "    if run_name.endswith('K'):\n",
    "        val = int(run_name.removesuffix('K')) * 1000\n",
    "    elif run_name.endswith('M'):\n",
    "        val = int(run_name.removesuffix('M')) * 1000000\n",
    "    return val\n",
    "error_df['run_size'] = error_df['run'].map(get_size)\n",
    "error_df['run_size_log'] = error_df['run_size'].map( lambda x: math.log10(x))"
   ]
  },
  {
   "cell_type": "code",
   "execution_count": 37,
   "metadata": {},
   "outputs": [
    {
     "data": {
      "application/vnd.plotly.v1+json": {
       "config": {
        "plotlyServerURL": "https://plot.ly"
       },
       "data": [
        {
         "alignmentgroup": "True",
         "boxpoints": "suspectedoutliers",
         "hovertemplate": "version=python<br>run=%{x}<br>total_option_error=%{y}<extra></extra>",
         "legendgroup": "python",
         "marker": {
          "color": "#636efa"
         },
         "name": "python",
         "notched": false,
         "offsetgroup": "python",
         "orientation": "v",
         "showlegend": true,
         "type": "box",
         "x": [
          "1K",
          "1K",
          "1K",
          "1K",
          "1K",
          "1K",
          "1K",
          "1K",
          "1K",
          "1K",
          "1K",
          "1K",
          "1K",
          "1K",
          "1K",
          "1K",
          "1K",
          "1K",
          "1K",
          "1K",
          "1K",
          "1K",
          "1K",
          "1K",
          "1K",
          "1K",
          "1K",
          "1K",
          "1K",
          "1K",
          "1K",
          "1K",
          "1K",
          "1K",
          "1K",
          "1K",
          "1K",
          "1K",
          "1K",
          "1K",
          "1K",
          "1K",
          "1K",
          "1K",
          "1K",
          "1K",
          "1K",
          "1K",
          "1K",
          "1K",
          "1K",
          "1K",
          "1K",
          "1K",
          "1K",
          "1K",
          "1K",
          "1K",
          "1K",
          "1K",
          "1K",
          "1K",
          "1K",
          "1K",
          "1K",
          "1K",
          "1K",
          "1K",
          "1K",
          "1K",
          "1K",
          "1K",
          "1K",
          "1K",
          "1K",
          "1K",
          "1K",
          "1K",
          "1K",
          "1K",
          "1K",
          "1K",
          "1K",
          "1K",
          "1K",
          "1K",
          "1K",
          "1K",
          "1K",
          "1K",
          "1K",
          "1K",
          "1K",
          "1K",
          "1K",
          "1K",
          "1K",
          "1K",
          "1K",
          "1K",
          "1K",
          "1K",
          "1K",
          "1K",
          "1K",
          "1K",
          "1K",
          "1K",
          "1K",
          "1K",
          "1K",
          "1K",
          "1K",
          "1K",
          "1K",
          "1K",
          "1K",
          "1K",
          "1K",
          "1K",
          "1K",
          "1K",
          "1K",
          "1K",
          "1K",
          "1K",
          "1K",
          "1K",
          "1K",
          "1K",
          "1K",
          "1K",
          "1K",
          "10K",
          "10K",
          "10K",
          "10K",
          "10K",
          "10K",
          "10K",
          "10K",
          "10K",
          "10K",
          "10K",
          "10K",
          "10K",
          "10K",
          "10K",
          "10K",
          "10K",
          "10K",
          "10K",
          "10K",
          "10K",
          "10K",
          "10K",
          "10K",
          "10K",
          "10K",
          "10K",
          "10K",
          "10K",
          "10K",
          "10K",
          "10K",
          "10K",
          "10K",
          "10K",
          "10K",
          "10K",
          "10K",
          "10K",
          "10K",
          "10K",
          "10K",
          "10K",
          "10K",
          "10K",
          "10K",
          "10K",
          "10K",
          "10K",
          "10K",
          "10K",
          "10K",
          "10K",
          "10K",
          "10K",
          "10K",
          "10K",
          "10K",
          "10K",
          "10K",
          "10K",
          "10K",
          "10K",
          "10K",
          "10K",
          "10K",
          "10K",
          "10K",
          "10K",
          "10K",
          "10K",
          "10K",
          "10K",
          "10K",
          "10K",
          "10K",
          "10K",
          "10K",
          "10K",
          "10K",
          "10K",
          "10K",
          "10K",
          "10K",
          "10K",
          "10K",
          "10K",
          "10K",
          "10K",
          "10K",
          "10K",
          "10K",
          "10K",
          "10K",
          "10K",
          "10K",
          "10K",
          "10K",
          "10K",
          "10K",
          "10K",
          "10K",
          "10K",
          "10K",
          "10K",
          "10K",
          "10K",
          "10K",
          "10K",
          "10K",
          "10K",
          "10K",
          "10K",
          "10K",
          "10K",
          "10K",
          "10K",
          "10K",
          "10K",
          "10K",
          "10K",
          "10K",
          "10K",
          "10K",
          "10K",
          "10K",
          "10K",
          "10K",
          "10K",
          "10K",
          "10K",
          "10K",
          "10K",
          "100K",
          "100K",
          "100K",
          "100K",
          "100K",
          "100K",
          "100K",
          "100K",
          "100K",
          "100K",
          "100K",
          "100K",
          "100K",
          "100K",
          "100K",
          "100K",
          "100K",
          "100K",
          "100K",
          "100K",
          "100K",
          "100K",
          "100K",
          "100K",
          "100K",
          "100K",
          "100K",
          "100K",
          "100K",
          "100K",
          "100K",
          "100K",
          "100K",
          "100K",
          "100K",
          "100K",
          "100K",
          "100K",
          "100K",
          "100K",
          "100K",
          "100K",
          "100K",
          "100K",
          "100K",
          "100K",
          "100K",
          "100K",
          "100K",
          "100K",
          "100K",
          "100K",
          "100K",
          "100K",
          "100K",
          "100K",
          "100K",
          "100K",
          "100K",
          "100K",
          "100K",
          "100K",
          "100K",
          "100K",
          "100K",
          "100K",
          "100K",
          "100K",
          "100K",
          "100K",
          "100K",
          "100K",
          "100K",
          "100K",
          "100K",
          "100K",
          "100K",
          "100K",
          "100K",
          "100K",
          "100K",
          "100K",
          "100K",
          "100K",
          "100K",
          "100K",
          "100K",
          "100K",
          "100K",
          "100K",
          "100K",
          "100K",
          "100K",
          "100K",
          "100K",
          "100K",
          "100K",
          "100K",
          "100K",
          "100K",
          "100K",
          "100K",
          "100K",
          "100K",
          "100K",
          "100K",
          "100K",
          "100K",
          "100K",
          "100K",
          "100K",
          "100K",
          "100K",
          "100K",
          "100K",
          "100K",
          "100K",
          "100K",
          "100K",
          "100K",
          "100K",
          "100K",
          "100K",
          "100K",
          "100K",
          "100K",
          "100K",
          "100K",
          "100K",
          "100K",
          "100K",
          "100K",
          "100K",
          "350K",
          "350K",
          "350K",
          "350K",
          "350K",
          "350K",
          "350K",
          "350K",
          "350K",
          "350K",
          "350K",
          "350K",
          "350K",
          "350K",
          "350K",
          "350K",
          "350K",
          "350K",
          "350K",
          "350K",
          "350K",
          "350K",
          "350K",
          "350K",
          "350K",
          "350K",
          "350K",
          "350K",
          "350K",
          "350K",
          "350K",
          "350K",
          "350K",
          "350K",
          "350K",
          "350K",
          "350K",
          "350K",
          "350K",
          "350K",
          "350K",
          "350K",
          "350K",
          "350K",
          "350K",
          "350K",
          "350K",
          "350K",
          "350K",
          "350K",
          "350K",
          "350K",
          "350K",
          "350K",
          "350K",
          "350K",
          "350K",
          "350K",
          "350K",
          "350K",
          "350K",
          "350K",
          "350K",
          "350K",
          "350K",
          "350K",
          "350K",
          "350K",
          "350K",
          "350K",
          "350K",
          "350K",
          "350K",
          "350K",
          "350K",
          "350K",
          "350K",
          "350K",
          "350K",
          "350K",
          "350K",
          "350K",
          "350K",
          "350K",
          "350K",
          "350K",
          "350K",
          "350K",
          "350K",
          "350K",
          "350K",
          "350K",
          "350K",
          "350K",
          "350K",
          "350K",
          "350K",
          "350K",
          "350K",
          "350K",
          "350K",
          "350K",
          "350K",
          "350K",
          "350K",
          "350K",
          "350K",
          "350K",
          "350K",
          "350K",
          "350K",
          "350K",
          "350K",
          "350K",
          "350K",
          "350K",
          "350K",
          "350K",
          "350K",
          "350K",
          "350K",
          "350K",
          "350K",
          "350K",
          "350K",
          "350K",
          "350K",
          "350K",
          "350K",
          "350K",
          "350K",
          "350K",
          "350K",
          "550K",
          "550K",
          "550K",
          "550K",
          "550K",
          "550K",
          "550K",
          "550K",
          "550K",
          "550K",
          "550K",
          "550K",
          "550K",
          "550K",
          "550K",
          "550K",
          "550K",
          "550K",
          "550K",
          "550K",
          "550K",
          "550K",
          "550K",
          "550K",
          "550K",
          "550K",
          "550K",
          "550K",
          "550K",
          "550K",
          "550K",
          "550K",
          "550K",
          "550K",
          "550K",
          "550K",
          "550K",
          "550K",
          "550K",
          "550K",
          "550K",
          "550K",
          "550K",
          "550K",
          "550K",
          "550K",
          "550K",
          "550K",
          "550K",
          "550K",
          "550K",
          "550K",
          "550K",
          "550K",
          "550K",
          "550K",
          "550K",
          "550K",
          "550K",
          "550K",
          "550K",
          "550K",
          "550K",
          "550K",
          "550K",
          "550K",
          "550K",
          "550K",
          "550K",
          "550K",
          "550K",
          "550K",
          "550K",
          "550K",
          "550K",
          "550K",
          "550K",
          "550K",
          "550K",
          "550K",
          "550K",
          "550K",
          "550K",
          "550K",
          "550K",
          "550K",
          "550K",
          "550K",
          "550K",
          "550K",
          "550K",
          "550K",
          "550K",
          "550K",
          "550K",
          "550K",
          "550K",
          "550K",
          "550K",
          "550K",
          "550K",
          "550K",
          "550K",
          "550K",
          "550K",
          "550K",
          "550K",
          "550K",
          "550K",
          "550K",
          "550K",
          "550K",
          "550K",
          "550K",
          "550K",
          "550K",
          "550K",
          "550K",
          "550K",
          "550K",
          "550K",
          "550K",
          "550K",
          "550K",
          "550K",
          "550K",
          "550K",
          "550K",
          "550K",
          "550K",
          "550K",
          "550K",
          "550K",
          "1M",
          "1M",
          "1M",
          "1M",
          "1M",
          "1M",
          "1M",
          "1M",
          "1M",
          "1M",
          "1M",
          "1M",
          "1M",
          "1M",
          "1M",
          "1M",
          "1M",
          "1M",
          "1M",
          "1M",
          "1M",
          "1M",
          "1M",
          "1M",
          "1M",
          "1M",
          "1M",
          "1M",
          "1M",
          "1M",
          "1M",
          "1M",
          "1M",
          "1M",
          "1M",
          "1M",
          "1M",
          "1M",
          "1M",
          "1M",
          "1M",
          "1M",
          "1M",
          "1M",
          "1M",
          "1M",
          "1M",
          "1M",
          "1M",
          "1M",
          "1M",
          "1M",
          "1M",
          "1M",
          "1M",
          "1M",
          "1M",
          "1M",
          "1M",
          "1M",
          "1M",
          "1M",
          "1M",
          "1M",
          "1M",
          "1M",
          "1M",
          "1M",
          "1M",
          "1M",
          "1M",
          "1M",
          "1M",
          "1M",
          "1M",
          "1M",
          "1M",
          "1M",
          "1M",
          "1M",
          "1M",
          "1M",
          "1M",
          "1M",
          "1M",
          "1M",
          "1M",
          "1M",
          "1M",
          "1M",
          "1M",
          "1M",
          "1M",
          "1M",
          "1M",
          "1M",
          "1M",
          "1M",
          "1M",
          "1M",
          "1M",
          "1M",
          "1M",
          "1M",
          "1M",
          "1M",
          "1M",
          "1M",
          "1M",
          "1M",
          "1M",
          "1M",
          "1M",
          "1M",
          "1M",
          "1M",
          "1M",
          "1M",
          "1M",
          "1M",
          "1M",
          "1M",
          "1M",
          "1M",
          "1M",
          "1M",
          "1M",
          "1M",
          "1M",
          "1M",
          "1M",
          "1M",
          "1M",
          "10M",
          "10M",
          "10M",
          "10M",
          "10M",
          "10M",
          "10M",
          "10M",
          "10M",
          "10M",
          "10M",
          "10M",
          "10M",
          "10M",
          "10M",
          "10M",
          "10M",
          "10M",
          "10M",
          "10M",
          "10M",
          "10M",
          "10M",
          "10M",
          "10M",
          "10M",
          "10M",
          "10M",
          "10M",
          "10M",
          "10M",
          "10M",
          "10M",
          "10M",
          "10M",
          "10M",
          "10M",
          "10M",
          "10M",
          "10M",
          "10M",
          "10M",
          "10M",
          "10M",
          "10M",
          "10M",
          "10M",
          "10M",
          "10M",
          "10M",
          "10M",
          "10M",
          "10M",
          "10M",
          "10M",
          "10M",
          "10M",
          "10M",
          "10M",
          "10M",
          "10M",
          "10M",
          "10M",
          "10M",
          "10M",
          "10M",
          "10M",
          "10M",
          "10M",
          "10M",
          "10M",
          "10M",
          "10M",
          "10M",
          "10M",
          "10M",
          "10M",
          "10M",
          "10M",
          "10M",
          "10M",
          "10M",
          "10M",
          "10M",
          "10M",
          "10M",
          "10M",
          "10M",
          "10M",
          "10M",
          "10M",
          "10M",
          "10M",
          "10M",
          "10M",
          "10M",
          "10M",
          "10M",
          "10M",
          "10M",
          "10M",
          "10M",
          "10M",
          "10M",
          "10M",
          "10M",
          "10M",
          "10M",
          "10M",
          "10M",
          "10M",
          "10M",
          "10M",
          "10M",
          "10M",
          "10M",
          "10M",
          "10M",
          "10M",
          "10M",
          "10M",
          "10M",
          "10M",
          "10M",
          "10M",
          "10M",
          "10M",
          "10M",
          "10M",
          "10M",
          "10M",
          "10M",
          "10M"
         ],
         "x0": " ",
         "xaxis": "x",
         "y": [
          0.075556247,
          0,
          0,
          0.003852442671984,
          0.0768646482,
          0,
          0.41665158383,
          0.8526006780992,
          0.5219868999999999,
          0.0068778948018202,
          0,
          0.013999032236,
          0.0068778897206,
          0.41143205,
          0.3556135,
          0.1108860509999999,
          0.16853952,
          0,
          0.1059244999999999,
          1.0237659816140017,
          0.14568261,
          0.7311580460648925,
          0.0871253409560832,
          0,
          0.2639159592150784,
          0.0330782207823735,
          0.1221481969539819,
          0.0736359562581347,
          0.14737528971,
          0.3527638163531855,
          0,
          0,
          2.999999999947489e-7,
          0.1143674639061463,
          0.3442945000000001,
          0.355613391,
          0.3811353871913725,
          0.161806937024,
          0.0202383301983827,
          0.3638755163452913,
          0.0273900959367425,
          0.0914473240587746,
          0.1456395641295057,
          0,
          0.0747891,
          0.0122171999999999,
          0,
          0.191644387880184,
          0.10593044,
          0.5011965181571736,
          0,
          0.0730440065587014,
          0.1770586999999999,
          0.6610529213910393,
          0.002673329,
          0.7196409509140005,
          0.0034442222110355,
          0.2500264076539909,
          0.021023157655,
          0.0274867633036841,
          0.5705391303400691,
          0.0346030143754704,
          0.613079107110939,
          0.0010159999999999,
          0.3690474344920258,
          0,
          0.2517442848696193,
          0,
          0.0986667554904737,
          0.0627469621126338,
          0.1220442559435276,
          0.1770595176161323,
          0,
          0.2258560637120297,
          0.0616858999999999,
          0.1305987664,
          0.1430102459514774,
          0.044281969164,
          0.0767498526687075,
          0.4304029,
          0.199864595664,
          0,
          0.3442949005599999,
          0.555914885253983,
          0,
          0.3556134188130001,
          0.1226851548259543,
          0.2719070737882342,
          1.0476539783863057,
          0,
          0.0076341948310139,
          0.0884514496117132,
          0,
          0.1409759656863681,
          0,
          0,
          0.1059244999999999,
          0.0068779499999999,
          0.35561344,
          0.288678413576,
          1.0417109999999998,
          0.081806238496731,
          0,
          0.3556135,
          0.2193497517725499,
          0.5096626569,
          0.35888674,
          0.0661429583476524,
          0.0452327282351096,
          0,
          0.0729658549839999,
          0.0616858702116557,
          0.1449658115363096,
          0.1057602930099224,
          0.0502548999999999,
          0.0358726409176991,
          0.2344152648906012,
          0.5559143,
          2.999999999947489e-7,
          0.558587789,
          0,
          0,
          0,
          0.0168458620811297,
          0.3527641205,
          4.000000002751802e-8,
          4.000000002751802e-8,
          0.0746327399999999,
          1.2070549202914211,
          0.4435177134337513,
          0.4435171,
          0.1126677030728915,
          0.0132875644294645,
          0.011556247,
          0,
          0,
          0.0007176470588235,
          0.0344856481999999,
          0,
          0.1620307235363914,
          0.4420006780992,
          0.1260833,
          0.0024778948018202,
          0,
          0.0012507928359999,
          0.0026744475935368,
          0.17476429,
          0.1990134999999999,
          0.095526051,
          0.08933952,
          0,
          0.0134367599999999,
          0.077458817934,
          0.0219435899999999,
          0.3697580460648924,
          0.0188170909572951,
          0,
          0.0560646120279822,
          0.0030443387866058,
          0.0643481969539818,
          0.0060359562581348,
          0.0858194327299999,
          0.1559638163531854,
          0,
          0,
          2.999999999964837e-7,
          0.0162347718080161,
          0.1956945,
          0.1990133909999999,
          0.1651353871913725,
          0.013567251384,
          0.0092383301983827,
          0.1990134095,
          0.0260696922458251,
          0.031657834296722,
          0.0219212069916697,
          0,
          0.0107890999999999,
          0.0223827999999999,
          0,
          0.087644387880184,
          0.04573044,
          0.2311965181571758,
          0,
          0.0430440065587014,
          0.0970586999999999,
          0.0436630404279659,
          0.0047266709999999,
          0.0898812103139998,
          0.0003583613938429,
          0.0712791444689993,
          0.041823157655,
          0.0104046609492504,
          0.2027391303400719,
          0.0148756671538814,
          0.1928287100974915,
          0.000204,
          0.1710474344920262,
          0,
          0.1243395076968107,
          0,
          0.0398667554904737,
          0.0251469621126338,
          0.0403162867519584,
          0.0970595176161323,
          0,
          0.1258560637120297,
          0.0220859,
          0.0132516082,
          0.0548102459514774,
          0.0007960516759999,
          0.0353498526687076,
          0.2098029,
          0.015924364704,
          0,
          0.19569490056,
          0.2098032030305006,
          0,
          0.199013418813,
          0.0960833404578141,
          0.1039070737882338,
          0.1171783509046519,
          0,
          0.0006604373757454,
          0.0266332026898543,
          0,
          0.0634915208468597,
          0,
          0,
          0.01285856,
          0.0024913676399072,
          0.1990134399999999,
          0.021304894244,
          0.590711,
          0.024806238496731,
          0,
          0.1990134999999999,
          0.1009363355502051,
          0.2339804568999999,
          0.00848674,
          0.0149364387687141,
          0.0166327282351097,
          0,
          0.0091827378239999,
          0.0220858702116557,
          0.0677658115363096,
          0.0503526159059068,
          0.0076548999999999,
          0.013472640917699,
          0.1242152648906006,
          0.2098026999999999,
          2.999999999964837e-7,
          0.2098029109999999,
          0,
          0,
          0,
          0.0038458620811297,
          0.1559641205,
          4.000000003098747e-8,
          4.000000003098747e-8,
          0.01010276,
          0.8359062649837784,
          0.1467177134337509,
          0.1467171,
          0.0652677030728915,
          0.0050469782672739,
          0.0002419929044123,
          0,
          0,
          0.00005631106679962839,
          0.0054360199999999,
          0,
          0.0387642848929394,
          0.1551197219007999,
          0.0441033,
          0.0016778948018202,
          0,
          0.000118316316,
          0.0016778897205999,
          0.0023602499999999,
          0.0004265,
          0.0089000509999999,
          0.00925952,
          0,
          0.0003625599999999,
          0.0072652233459999,
          0.0021033899999999,
          0.1379664472845185,
          0.0019475761735772,
          0,
          0.0064009962004095,
          0.0001529883727451,
          0.0035118030460181,
          0.0078840437418651,
          0.0227394327299999,
          0.0339291457906388,
          0,
          0,
          2.999999999610845e-7,
          0.0105325360938536,
          0.0008255,
          0.0015720915150071,
          0.0115462832686741,
          0.0005935693559999,
          0.00005833019838269935,
          0.0024975146814616,
          0.0022403060949173,
          0.0143313418349999,
          0.002152122745,
          0,
          0.0005509,
          0.0072828,
          0,
          0.0245907513737853,
          0.00009043999999998984,
          0.0760605883674037,
          0,
          0.0009743813131014,
          0.0058987,
          0.0047530536884542,
          0.000906671,
          0.008476931474,
          0.000033992539957504126,
          0.0242760820226968,
          0.0070968174630354,
          0.0001153390507495,
          0.0056408696599279,
          0.00007501321765298995,
          0.0563538853813735,
          0.00002000000000003638,
          0.0448204608977307,
          0,
          0.0128555383199999,
          0,
          0.0005401808404892,
          0.0002330378873661,
          0.0017719317873953,
          0.0058995176161323,
          0,
          0.0165924902096541,
          0.000045900000000028736,
          0.0008833118,
          0.00008977114266209738,
          0.0002160790159999,
          0.0021282419868589,
          0.0009771,
          0.0010473622959999,
          0,
          0.0024880334861646,
          0.0025215665282203,
          0,
          0.0011757683633962,
          0.0096753640313958,
          0.0116746045264073,
          0.0113005766063295,
          0,
          0.00006584493041754061,
          0.0017323182667227,
          0,
          0.0039818496785873,
          0,
          0,
          0.0003625599999999,
          0.0016779499999999,
          0.0008254650414399,
          0.0017188109839999,
          0.1675767999999999,
          0.0003818699359279,
          0,
          0.0004265,
          0.0007315070776827,
          0.0761556148999999,
          0.0001867399999999,
          0.0032969812997572,
          0.0001099141624581,
          0,
          0.0004752406559999,
          0.00004587021165573364,
          0.0001741884636903,
          0.0142499199059284,
          0.0002136999999999,
          0.00006735908230096005,
          0.0128552648906006,
          0.0012112999999999,
          2.999999999610845e-7,
          0.003162811,
          0,
          0,
          0,
          0.00009413791887021928,
          0.0340752487403116,
          3.9999999999328774e-8,
          3.9999999999328774e-8,
          0.00023574,
          0.2937059243520717,
          0.0195941745146293,
          0.0133301,
          0.0054677030728915,
          0.00003302173272606524,
          0.0008076755714285,
          0,
          0,
          0.000017182737501810025,
          0.0014239591428571,
          0,
          0.0202257746211521,
          0.0477246571428571,
          0.0160487285714285,
          0.0008436090875345,
          0,
          0.00005293405885714554,
          0.0008436040063142,
          0.0004448614285714,
          0.00009507142857139116,
          0.002760051,
          0.0013452342857142,
          0,
          0.0001093485714285,
          0.0020066137197142,
          0.0015421242857142,
          0.0367693044273756,
          0.000428266983954,
          0,
          0.0019821740051321,
          0.00006282577892713337,
          0.0007253398111247,
          0.0055899628932924,
          0.0080937184442857,
          0.0085777172192102,
          0,
          0,
          3.000000000067158e-7,
          0.0059831867795679,
          0.0001454999999999,
          0.0009756634585857,
          0.0032491404115313,
          0.0001600790525714,
          0.0001845269444744,
          0.0008161501756996,
          0.0007954065315394,
          0.0096570561207142,
          0.0015645072940445,
          0,
          0.00004428103851328906,
          0.0058456571428571,
          0,
          0.0115426842745191,
          0.0022181314285714,
          0.0350920169388325,
          0,
          0.0007429527416728,
          0.0036986999999999,
          0.0012161592619485,
          0.0005895281428571,
          0.0024288392825714,
          0.00001147158504315306,
          0.0101187906131105,
          0.0019174678787925,
          0.00003072048300507541,
          0.0008722982313565,
          0.00001145761190921823,
          0.0167073812936893,
          0.0000028571428571220685,
          0.0081433180405878,
          0,
          0.0018710294028324,
          0,
          0.0002544763531371,
          0.000024098061169846564,
          0.0007869950185085,
          0.0036995176161323,
          0,
          0.0091817779977439,
          1.8571428567936118e-7,
          0.0001679390285714,
          0.000015559635124824767,
          0.00001236336399999866,
          0.0009327098115647,
          0.00005564548014542957,
          0.0002727426925714,
          0,
          0.0008423192004503,
          0.0002444049080557,
          0,
          0.0006634940775161,
          0.0029184848408929,
          0.002128890240693,
          0.0031975703785384,
          0,
          0.000025072422607208864,
          0.0043884729088232,
          0,
          0.0017701144701741,
          0,
          0,
          0.0001082914285714,
          0.0008436642857141,
          0.0001454650414399,
          0.0004727838897142,
          0.0540677428571428,
          0.0001453996101696,
          0,
          0.00009507142857139116,
          0.000109515642833,
          0.0350923234714285,
          0.000050402857142858734,
          0.0010683533965507,
          0.0003729860506045,
          0,
          0.00009084905828571422,
          1.5592594145499565e-7,
          0.000005811536309619354,
          0.0053184913344999,
          0.00006609999999997464,
          0.000005274117701908861,
          0.0018666934620292,
          0.0001749857142857,
          3.000000000067158e-7,
          0.0017437595714285,
          0,
          0,
          0,
          0.0000058620811297955314,
          0.0085957961903672,
          4.0000000027680654e-8,
          4.0000000027680654e-8,
          0.00007514857142858904,
          0.0982259243520714,
          0.0067543462556256,
          0.0031951571428571,
          0.0031055342899655,
          0.000012843053875188004,
          0.000676247,
          0,
          0,
          0.000012497054291651775,
          0.0013807552545454,
          0,
          0.014177687172755,
          0.036232709090909,
          0.0090373,
          0.0006488038927293,
          0,
          0.000018272429454542542,
          0.000648798811509,
          0.0003557481818181,
          0.0000134999999999656,
          0.0014073237272726,
          0.0004922472727273,
          0,
          0.00006901636363634721,
          0.001328312654,
          0.0011947554545455,
          0.0240882654663367,
          0.0004443454626515,
          0,
          0.0014254736776451,
          0.000044626314091847,
          0.0006718333176182,
          0.0046808719842015,
          0.0053067054572727,
          0.0055055094270024,
          0,
          0,
          2.999999999538203e-7,
          0.0046807202909091,
          0.000014965956532956646,
          0.0005599920300143,
          0.001759577367834,
          0.0001036413567272,
          0.0001180334379809,
          0.0005696169230264,
          0.0004515104276433,
          0.0077931600168181,
          0.0012255357994865,
          0,
          0.0000909000000000459,
          0.0050009818181818,
          0,
          0.0086024245342594,
          0.0020441054545454,
          0.0250587701855855,
          0,
          0.0004271085858286,
          0.0028841545454545,
          0.0008241249228574,
          0.0003012164545454,
          0.0015453444103636,
          0.000006694843076258869,
          0.005819285474928,
          0.0011631988861585,
          0.00002327163256769875,
          0.0001954151144734,
          0.000008246941168010545,
          0.0092403683066763,
          0.0000021818181818128905,
          0.0038550063522761,
          0,
          0.000853361346954,
          0,
          0.0002347360933968,
          0.000009401523729794796,
          0.0006529240559179,
          0.0028849721615868,
          0,
          0.0071178818938478,
          0.000002263636363574981,
          0.00009774834545456927,
          0.0000169927985972319,
          0.00001158947054545268,
          0.000550374409565,
          0.0000771000000000122,
          0.0001878417603636,
          0,
          0.0005444509060666,
          0.0003131002686219,
          0,
          0.0003360343372564,
          0.0015004377229715,
          0.0006873317991346,
          0.0020363027354264,
          0,
          0.000009029459606248236,
          0.0037921092724596,
          0,
          0.0012533982625213,
          0,
          0,
          0.0000690163636363472,
          0.000648859090909,
          0.000028535950530897967,
          0.0002719062312727,
          0.0415451454545454,
          0.00007827996857466046,
          0,
          0.0000134999999999656,
          0.0001508739943051,
          0.0250590767181818,
          0.000032194545454544295,
          0.0007706437736126,
          0.0003199990376175,
          0,
          0.00004003379127272343,
          0.000002233848019365395,
          0.000005097554599480468,
          0.0027844653604739,
          0.000019590909090918352,
          0.0000037227186645641166,
          0.0006843557996916,
          0.0002238090909091,
          2.999999999538203e-7,
          0.0009887909999999,
          0,
          0,
          0,
          0.000016771172038882613,
          0.0057295047192188,
          4.0000000029198543e-8,
          4.0000000029198543e-8,
          0.00004246545454544957,
          0.0698659243520712,
          0.0041766839179633,
          0.0021322999999999,
          0.0018972226016539,
          8.950019270848069e-7,
          0.000734247,
          0,
          0,
          0.000006642073778682061,
          0.0008807317999999,
          0,
          0.0081377746211521,
          0.0242798,
          0.0035952999999999,
          0.0003798948018202,
          0,
          0.000012374875999998543,
          0.0003798897206,
          0.0001221499999999,
          0.000003499999999992725,
          0.000462051,
          0.00029152,
          0,
          0.000038720000000003214,
          0.000701968726,
          0.00053281,
          0.0175184472845185,
          0.0001947257823788,
          0,
          0.0005405660051714,
          0.000023925898160436543,
          0.0003801969539818,
          0.0026159628932924,
          0.0028152069099999,
          0.0030942328031571,
          0,
          0,
          2.999999999884064e-7,
          0.0026158112,
          0.000006313932002933654,
          0.0002159920300143,
          0.0009593955496522,
          0.00005814508400000122,
          0.0001056698016172,
          0.0002027561254014,
          0.0001760959367424,
          0.004771341835,
          0.0004809591441897,
          0,
          0.000033861380288344204,
          0.0028108,
          0,
          0.0051789699888048,
          0.00125356,
          0.0144765883674036,
          0,
          0.0001843813131014,
          0.0019286999999999,
          0.0004416831715228,
          0.0001426709999999,
          0.000856982006,
          0.0000031606139946109128,
          0.002427285474928,
          0.000448842345,
          0.000004067700000015139,
          0.000008869659927981816,
          0.000003767752890562875,
          0.0035957179083092,
          0,
          0.0017431276938948,
          0,
          0.0004899786293982,
          0,
          0.0002597319200836,
          0.000003135540482016496,
          0.0004019603933698,
          0.0018735176161323,
          0,
          0.0045020637120296,
          0.0000019000000000087312,
          0.00005405379999998118,
          0.000006485014463586383,
          0.000005479036000001683,
          0.0003529198641104,
          0.00003017371507369268,
          0.000103202076,
          0,
          0.0001475418151575,
          0.00008866676505539505,
          0,
          0.0001925797918018,
          0.0005045312787277,
          0.0002746045264073,
          0.0011268862533266,
          0,
          0.000006166998011856778,
          0.0022545503882868,
          0,
          0.0005495800807031,
          0,
          0,
          0.000038720000000003214,
          0.0003799499999999,
          0.00000944504143998856,
          0.0001633879159999,
          0.0293605999999999,
          0.00005338656715278212,
          0,
          0.000003499999999992725,
          0.00001350707768272266,
          0.0144768948999999,
          0.00001095400000000221,
          0.0004051258564569,
          0.0001732717648903,
          0,
          0.00003638649599999696,
          0.000001870211655788732,
          0.000008188463690387258,
          0.0010079199059284,
          0.000010300000000010188,
          0.000004702689130495727,
          0.0004052648906007,
          0.00004130000000001019,
          2.999999999884064e-7,
          0.000436971,
          0,
          0,
          0,
          0.000003862081129786116,
          0.0032825064686213,
          3.999999999694352e-8,
          3.999999999694352e-8,
          0.0000239799999999816,
          0.0476462649837761,
          0.0024827377988081,
          0.0011542999999999,
          0.0009166771471084,
          0.000002978267273974716,
          0.000767647,
          0,
          0,
          6.422731804457726e-7,
          0.0002063297999999,
          0,
          0.0006316548211521,
          0.0031444,
          0.0000407,
          0.000012694801820283108,
          0,
          7.748759999978321e-7,
          0.00001268972059999737,
          0.00001517000000000608,
          0.0000011,
          0.000026451000000001116,
          7.999999995809049e-8,
          0,
          0.0000026999999999759896,
          0.00007131278600000129,
          0.00008381000000000058,
          0.00195217892271,
          0.000020508960924490275,
          0,
          0.000047795524765241215,
          0.0000023765688705707704,
          0.000009596953981875544,
          0.0001911628932924,
          0.00024065273,
          0.0002342163531854,
          0,
          0,
          2.999999999999972e-7,
          0.0002213687532237,
          0.0000013000000000134605,
          0.0000027920300143422533,
          0.0001392128086274,
          0.000004824736000000955,
          0.000011069801617294943,
          0.000010720468699697342,
          0.00004196100367538575,
          0.0003245418349999,
          0.00002435398130473603,
          0,
          7.000750761175369e-7,
          0.0002086,
          0,
          0.0007129734270967,
          0.00008976000000000768,
          0.0011049883674037,
          0,
          0.000002381313101434261,
          0.0002761,
          0.0000436378739710378,
          0.0000026709999999993668,
          0.00008566876599999945,
          3.149186670580093e-7,
          0.0001485866216964,
          0.0001109515807769,
          0.0000016489036841160065,
          5.303400720170187e-7,
          7.799295009762204e-7,
          0.00004822723009929479,
          2.3283064365386962e-17,
          0.0001431857001507,
          0,
          0.00001678939552963235,
          0,
          0.00005213192008362813,
          0.0000014644595179804126,
          0.000048760393369827896,
          0.0001299176161323,
          0,
          0.0006245420355297,
          3e-7,
          0.000005281799999998349,
          8.788139364461161e-7,
          4.800839999952811e-7,
          0.00004874733129236486,
          0.000002001310101330182,
          0.000010109044000002177,
          0,
          0.00000430527273127443,
          0.00000910929838555508,
          0,
          0.000009379791801842022,
          0.00003075170895528003,
          0.00003359547359262308,
          0.0001123564225725,
          0,
          6.35785288363695e-7,
          0.0001465503882867,
          0,
          0.000014679153140201737,
          0,
          0,
          0.000002699999999975989,
          0.00001275000000000051,
          0.000001334958559991355,
          0.00001511490400000037,
          0.0035882,
          0.00000793550568273854,
          0,
          0.0000011,
          0.0000024926278879139114,
          0.0011052948999999,
          0.0000021399999999995763,
          0.00006696054282800424,
          0.00002363043243219473,
          0,
          0.0000027767439999958216,
          2.702116557266718e-7,
          4.9999999995168416e-8,
          0.00001373197813062918,
          0.0000023,
          3.590823009498024e-7,
          7.351093992948869e-7,
          0.000003299999999994179,
          2.999999999999972e-7,
          0.000003751000000002568,
          0,
          0,
          0,
          0.0000015379188701944976,
          0.000234664504653,
          3.999999999233905e-8,
          3.999999999233905e-8,
          0.000002819999999977153,
          0.0067099243520712,
          0.0003533377988081,
          0.0001674999999999,
          0.00006667714710844829,
          4.140889819588096e-7
         ],
         "y0": " ",
         "yaxis": "y"
        }
       ],
       "layout": {
        "boxmode": "group",
        "legend": {
         "title": {
          "text": "version"
         },
         "tracegroupgap": 0
        },
        "margin": {
         "t": 60
        },
        "template": {
         "data": {
          "bar": [
           {
            "error_x": {
             "color": "#2a3f5f"
            },
            "error_y": {
             "color": "#2a3f5f"
            },
            "marker": {
             "line": {
              "color": "#E5ECF6",
              "width": 0.5
             },
             "pattern": {
              "fillmode": "overlay",
              "size": 10,
              "solidity": 0.2
             }
            },
            "type": "bar"
           }
          ],
          "barpolar": [
           {
            "marker": {
             "line": {
              "color": "#E5ECF6",
              "width": 0.5
             },
             "pattern": {
              "fillmode": "overlay",
              "size": 10,
              "solidity": 0.2
             }
            },
            "type": "barpolar"
           }
          ],
          "carpet": [
           {
            "aaxis": {
             "endlinecolor": "#2a3f5f",
             "gridcolor": "white",
             "linecolor": "white",
             "minorgridcolor": "white",
             "startlinecolor": "#2a3f5f"
            },
            "baxis": {
             "endlinecolor": "#2a3f5f",
             "gridcolor": "white",
             "linecolor": "white",
             "minorgridcolor": "white",
             "startlinecolor": "#2a3f5f"
            },
            "type": "carpet"
           }
          ],
          "choropleth": [
           {
            "colorbar": {
             "outlinewidth": 0,
             "ticks": ""
            },
            "type": "choropleth"
           }
          ],
          "contour": [
           {
            "colorbar": {
             "outlinewidth": 0,
             "ticks": ""
            },
            "colorscale": [
             [
              0,
              "#0d0887"
             ],
             [
              0.1111111111111111,
              "#46039f"
             ],
             [
              0.2222222222222222,
              "#7201a8"
             ],
             [
              0.3333333333333333,
              "#9c179e"
             ],
             [
              0.4444444444444444,
              "#bd3786"
             ],
             [
              0.5555555555555556,
              "#d8576b"
             ],
             [
              0.6666666666666666,
              "#ed7953"
             ],
             [
              0.7777777777777778,
              "#fb9f3a"
             ],
             [
              0.8888888888888888,
              "#fdca26"
             ],
             [
              1,
              "#f0f921"
             ]
            ],
            "type": "contour"
           }
          ],
          "contourcarpet": [
           {
            "colorbar": {
             "outlinewidth": 0,
             "ticks": ""
            },
            "type": "contourcarpet"
           }
          ],
          "heatmap": [
           {
            "colorbar": {
             "outlinewidth": 0,
             "ticks": ""
            },
            "colorscale": [
             [
              0,
              "#0d0887"
             ],
             [
              0.1111111111111111,
              "#46039f"
             ],
             [
              0.2222222222222222,
              "#7201a8"
             ],
             [
              0.3333333333333333,
              "#9c179e"
             ],
             [
              0.4444444444444444,
              "#bd3786"
             ],
             [
              0.5555555555555556,
              "#d8576b"
             ],
             [
              0.6666666666666666,
              "#ed7953"
             ],
             [
              0.7777777777777778,
              "#fb9f3a"
             ],
             [
              0.8888888888888888,
              "#fdca26"
             ],
             [
              1,
              "#f0f921"
             ]
            ],
            "type": "heatmap"
           }
          ],
          "heatmapgl": [
           {
            "colorbar": {
             "outlinewidth": 0,
             "ticks": ""
            },
            "colorscale": [
             [
              0,
              "#0d0887"
             ],
             [
              0.1111111111111111,
              "#46039f"
             ],
             [
              0.2222222222222222,
              "#7201a8"
             ],
             [
              0.3333333333333333,
              "#9c179e"
             ],
             [
              0.4444444444444444,
              "#bd3786"
             ],
             [
              0.5555555555555556,
              "#d8576b"
             ],
             [
              0.6666666666666666,
              "#ed7953"
             ],
             [
              0.7777777777777778,
              "#fb9f3a"
             ],
             [
              0.8888888888888888,
              "#fdca26"
             ],
             [
              1,
              "#f0f921"
             ]
            ],
            "type": "heatmapgl"
           }
          ],
          "histogram": [
           {
            "marker": {
             "pattern": {
              "fillmode": "overlay",
              "size": 10,
              "solidity": 0.2
             }
            },
            "type": "histogram"
           }
          ],
          "histogram2d": [
           {
            "colorbar": {
             "outlinewidth": 0,
             "ticks": ""
            },
            "colorscale": [
             [
              0,
              "#0d0887"
             ],
             [
              0.1111111111111111,
              "#46039f"
             ],
             [
              0.2222222222222222,
              "#7201a8"
             ],
             [
              0.3333333333333333,
              "#9c179e"
             ],
             [
              0.4444444444444444,
              "#bd3786"
             ],
             [
              0.5555555555555556,
              "#d8576b"
             ],
             [
              0.6666666666666666,
              "#ed7953"
             ],
             [
              0.7777777777777778,
              "#fb9f3a"
             ],
             [
              0.8888888888888888,
              "#fdca26"
             ],
             [
              1,
              "#f0f921"
             ]
            ],
            "type": "histogram2d"
           }
          ],
          "histogram2dcontour": [
           {
            "colorbar": {
             "outlinewidth": 0,
             "ticks": ""
            },
            "colorscale": [
             [
              0,
              "#0d0887"
             ],
             [
              0.1111111111111111,
              "#46039f"
             ],
             [
              0.2222222222222222,
              "#7201a8"
             ],
             [
              0.3333333333333333,
              "#9c179e"
             ],
             [
              0.4444444444444444,
              "#bd3786"
             ],
             [
              0.5555555555555556,
              "#d8576b"
             ],
             [
              0.6666666666666666,
              "#ed7953"
             ],
             [
              0.7777777777777778,
              "#fb9f3a"
             ],
             [
              0.8888888888888888,
              "#fdca26"
             ],
             [
              1,
              "#f0f921"
             ]
            ],
            "type": "histogram2dcontour"
           }
          ],
          "mesh3d": [
           {
            "colorbar": {
             "outlinewidth": 0,
             "ticks": ""
            },
            "type": "mesh3d"
           }
          ],
          "parcoords": [
           {
            "line": {
             "colorbar": {
              "outlinewidth": 0,
              "ticks": ""
             }
            },
            "type": "parcoords"
           }
          ],
          "pie": [
           {
            "automargin": true,
            "type": "pie"
           }
          ],
          "scatter": [
           {
            "fillpattern": {
             "fillmode": "overlay",
             "size": 10,
             "solidity": 0.2
            },
            "type": "scatter"
           }
          ],
          "scatter3d": [
           {
            "line": {
             "colorbar": {
              "outlinewidth": 0,
              "ticks": ""
             }
            },
            "marker": {
             "colorbar": {
              "outlinewidth": 0,
              "ticks": ""
             }
            },
            "type": "scatter3d"
           }
          ],
          "scattercarpet": [
           {
            "marker": {
             "colorbar": {
              "outlinewidth": 0,
              "ticks": ""
             }
            },
            "type": "scattercarpet"
           }
          ],
          "scattergeo": [
           {
            "marker": {
             "colorbar": {
              "outlinewidth": 0,
              "ticks": ""
             }
            },
            "type": "scattergeo"
           }
          ],
          "scattergl": [
           {
            "marker": {
             "colorbar": {
              "outlinewidth": 0,
              "ticks": ""
             }
            },
            "type": "scattergl"
           }
          ],
          "scattermapbox": [
           {
            "marker": {
             "colorbar": {
              "outlinewidth": 0,
              "ticks": ""
             }
            },
            "type": "scattermapbox"
           }
          ],
          "scatterpolar": [
           {
            "marker": {
             "colorbar": {
              "outlinewidth": 0,
              "ticks": ""
             }
            },
            "type": "scatterpolar"
           }
          ],
          "scatterpolargl": [
           {
            "marker": {
             "colorbar": {
              "outlinewidth": 0,
              "ticks": ""
             }
            },
            "type": "scatterpolargl"
           }
          ],
          "scatterternary": [
           {
            "marker": {
             "colorbar": {
              "outlinewidth": 0,
              "ticks": ""
             }
            },
            "type": "scatterternary"
           }
          ],
          "surface": [
           {
            "colorbar": {
             "outlinewidth": 0,
             "ticks": ""
            },
            "colorscale": [
             [
              0,
              "#0d0887"
             ],
             [
              0.1111111111111111,
              "#46039f"
             ],
             [
              0.2222222222222222,
              "#7201a8"
             ],
             [
              0.3333333333333333,
              "#9c179e"
             ],
             [
              0.4444444444444444,
              "#bd3786"
             ],
             [
              0.5555555555555556,
              "#d8576b"
             ],
             [
              0.6666666666666666,
              "#ed7953"
             ],
             [
              0.7777777777777778,
              "#fb9f3a"
             ],
             [
              0.8888888888888888,
              "#fdca26"
             ],
             [
              1,
              "#f0f921"
             ]
            ],
            "type": "surface"
           }
          ],
          "table": [
           {
            "cells": {
             "fill": {
              "color": "#EBF0F8"
             },
             "line": {
              "color": "white"
             }
            },
            "header": {
             "fill": {
              "color": "#C8D4E3"
             },
             "line": {
              "color": "white"
             }
            },
            "type": "table"
           }
          ]
         },
         "layout": {
          "annotationdefaults": {
           "arrowcolor": "#2a3f5f",
           "arrowhead": 0,
           "arrowwidth": 1
          },
          "autotypenumbers": "strict",
          "coloraxis": {
           "colorbar": {
            "outlinewidth": 0,
            "ticks": ""
           }
          },
          "colorscale": {
           "diverging": [
            [
             0,
             "#8e0152"
            ],
            [
             0.1,
             "#c51b7d"
            ],
            [
             0.2,
             "#de77ae"
            ],
            [
             0.3,
             "#f1b6da"
            ],
            [
             0.4,
             "#fde0ef"
            ],
            [
             0.5,
             "#f7f7f7"
            ],
            [
             0.6,
             "#e6f5d0"
            ],
            [
             0.7,
             "#b8e186"
            ],
            [
             0.8,
             "#7fbc41"
            ],
            [
             0.9,
             "#4d9221"
            ],
            [
             1,
             "#276419"
            ]
           ],
           "sequential": [
            [
             0,
             "#0d0887"
            ],
            [
             0.1111111111111111,
             "#46039f"
            ],
            [
             0.2222222222222222,
             "#7201a8"
            ],
            [
             0.3333333333333333,
             "#9c179e"
            ],
            [
             0.4444444444444444,
             "#bd3786"
            ],
            [
             0.5555555555555556,
             "#d8576b"
            ],
            [
             0.6666666666666666,
             "#ed7953"
            ],
            [
             0.7777777777777778,
             "#fb9f3a"
            ],
            [
             0.8888888888888888,
             "#fdca26"
            ],
            [
             1,
             "#f0f921"
            ]
           ],
           "sequentialminus": [
            [
             0,
             "#0d0887"
            ],
            [
             0.1111111111111111,
             "#46039f"
            ],
            [
             0.2222222222222222,
             "#7201a8"
            ],
            [
             0.3333333333333333,
             "#9c179e"
            ],
            [
             0.4444444444444444,
             "#bd3786"
            ],
            [
             0.5555555555555556,
             "#d8576b"
            ],
            [
             0.6666666666666666,
             "#ed7953"
            ],
            [
             0.7777777777777778,
             "#fb9f3a"
            ],
            [
             0.8888888888888888,
             "#fdca26"
            ],
            [
             1,
             "#f0f921"
            ]
           ]
          },
          "colorway": [
           "#636efa",
           "#EF553B",
           "#00cc96",
           "#ab63fa",
           "#FFA15A",
           "#19d3f3",
           "#FF6692",
           "#B6E880",
           "#FF97FF",
           "#FECB52"
          ],
          "font": {
           "color": "#2a3f5f"
          },
          "geo": {
           "bgcolor": "white",
           "lakecolor": "white",
           "landcolor": "#E5ECF6",
           "showlakes": true,
           "showland": true,
           "subunitcolor": "white"
          },
          "hoverlabel": {
           "align": "left"
          },
          "hovermode": "closest",
          "mapbox": {
           "style": "light"
          },
          "paper_bgcolor": "white",
          "plot_bgcolor": "#E5ECF6",
          "polar": {
           "angularaxis": {
            "gridcolor": "white",
            "linecolor": "white",
            "ticks": ""
           },
           "bgcolor": "#E5ECF6",
           "radialaxis": {
            "gridcolor": "white",
            "linecolor": "white",
            "ticks": ""
           }
          },
          "scene": {
           "xaxis": {
            "backgroundcolor": "#E5ECF6",
            "gridcolor": "white",
            "gridwidth": 2,
            "linecolor": "white",
            "showbackground": true,
            "ticks": "",
            "zerolinecolor": "white"
           },
           "yaxis": {
            "backgroundcolor": "#E5ECF6",
            "gridcolor": "white",
            "gridwidth": 2,
            "linecolor": "white",
            "showbackground": true,
            "ticks": "",
            "zerolinecolor": "white"
           },
           "zaxis": {
            "backgroundcolor": "#E5ECF6",
            "gridcolor": "white",
            "gridwidth": 2,
            "linecolor": "white",
            "showbackground": true,
            "ticks": "",
            "zerolinecolor": "white"
           }
          },
          "shapedefaults": {
           "line": {
            "color": "#2a3f5f"
           }
          },
          "ternary": {
           "aaxis": {
            "gridcolor": "white",
            "linecolor": "white",
            "ticks": ""
           },
           "baxis": {
            "gridcolor": "white",
            "linecolor": "white",
            "ticks": ""
           },
           "bgcolor": "#E5ECF6",
           "caxis": {
            "gridcolor": "white",
            "linecolor": "white",
            "ticks": ""
           }
          },
          "title": {
           "x": 0.05
          },
          "xaxis": {
           "automargin": true,
           "gridcolor": "white",
           "linecolor": "white",
           "ticks": "",
           "title": {
            "standoff": 15
           },
           "zerolinecolor": "white",
           "zerolinewidth": 2
          },
          "yaxis": {
           "automargin": true,
           "gridcolor": "white",
           "linecolor": "white",
           "ticks": "",
           "title": {
            "standoff": 15
           },
           "zerolinecolor": "white",
           "zerolinewidth": 2
          }
         }
        },
        "xaxis": {
         "anchor": "y",
         "domain": [
          0,
          1
         ],
         "title": {
          "text": "number of samples"
         }
        },
        "yaxis": {
         "anchor": "x",
         "domain": [
          0,
          1
         ],
         "title": {
          "text": "total_option_error"
         }
        }
       }
      }
     },
     "metadata": {},
     "output_type": "display_data"
    }
   ],
   "source": [
    "fig = px.box(error_df, x=\"run\", y=\"total_option_error\", color='version',\n",
    "             points='suspectedoutliers')\n",
    "fig.update_layout(xaxis_title='number of samples')\n",
    "fig.show()"
   ]
  },
  {
   "cell_type": "code",
   "execution_count": 33,
   "metadata": {},
   "outputs": [
    {
     "data": {
      "application/vnd.plotly.v1+json": {
       "config": {
        "plotlyServerURL": "https://plot.ly"
       },
       "data": [
        {
         "alignmentgroup": "True",
         "boxpoints": "suspectedoutliers",
         "hovertemplate": "version=python<br>run=%{x}<br>total_group_error=%{y}<extra></extra>",
         "legendgroup": "python",
         "marker": {
          "color": "#636efa"
         },
         "name": "python",
         "notched": false,
         "offsetgroup": "python",
         "orientation": "v",
         "showlegend": true,
         "type": "box",
         "x": [
          "1K",
          "1K",
          "1K",
          "1K",
          "1K",
          "1K",
          "1K",
          "1K",
          "1K",
          "1K",
          "1K",
          "1K",
          "1K",
          "1K",
          "1K",
          "1K",
          "1K",
          "1K",
          "1K",
          "1K",
          "1K",
          "1K",
          "1K",
          "1K",
          "1K",
          "1K",
          "1K",
          "1K",
          "1K",
          "1K",
          "1K",
          "1K",
          "1K",
          "1K",
          "1K",
          "1K",
          "1K",
          "1K",
          "1K",
          "1K",
          "1K",
          "1K",
          "1K",
          "1K",
          "1K",
          "1K",
          "1K",
          "1K",
          "1K",
          "1K",
          "1K",
          "1K",
          "1K",
          "1K",
          "1K",
          "1K",
          "1K",
          "1K",
          "1K",
          "1K",
          "1K",
          "1K",
          "1K",
          "1K",
          "1K",
          "1K",
          "1K",
          "1K",
          "1K",
          "1K",
          "1K",
          "1K",
          "1K",
          "1K",
          "1K",
          "1K",
          "1K",
          "1K",
          "1K",
          "1K",
          "1K",
          "1K",
          "1K",
          "1K",
          "1K",
          "1K",
          "1K",
          "1K",
          "1K",
          "1K",
          "1K",
          "1K",
          "1K",
          "1K",
          "1K",
          "1K",
          "1K",
          "1K",
          "1K",
          "1K",
          "1K",
          "1K",
          "1K",
          "1K",
          "1K",
          "1K",
          "1K",
          "1K",
          "1K",
          "1K",
          "1K",
          "1K",
          "1K",
          "1K",
          "1K",
          "1K",
          "1K",
          "1K",
          "1K",
          "1K",
          "1K",
          "1K",
          "1K",
          "1K",
          "1K",
          "1K",
          "1K",
          "1K",
          "1K",
          "1K",
          "1K",
          "1K",
          "1K",
          "10K",
          "10K",
          "10K",
          "10K",
          "10K",
          "10K",
          "10K",
          "10K",
          "10K",
          "10K",
          "10K",
          "10K",
          "10K",
          "10K",
          "10K",
          "10K",
          "10K",
          "10K",
          "10K",
          "10K",
          "10K",
          "10K",
          "10K",
          "10K",
          "10K",
          "10K",
          "10K",
          "10K",
          "10K",
          "10K",
          "10K",
          "10K",
          "10K",
          "10K",
          "10K",
          "10K",
          "10K",
          "10K",
          "10K",
          "10K",
          "10K",
          "10K",
          "10K",
          "10K",
          "10K",
          "10K",
          "10K",
          "10K",
          "10K",
          "10K",
          "10K",
          "10K",
          "10K",
          "10K",
          "10K",
          "10K",
          "10K",
          "10K",
          "10K",
          "10K",
          "10K",
          "10K",
          "10K",
          "10K",
          "10K",
          "10K",
          "10K",
          "10K",
          "10K",
          "10K",
          "10K",
          "10K",
          "10K",
          "10K",
          "10K",
          "10K",
          "10K",
          "10K",
          "10K",
          "10K",
          "10K",
          "10K",
          "10K",
          "10K",
          "10K",
          "10K",
          "10K",
          "10K",
          "10K",
          "10K",
          "10K",
          "10K",
          "10K",
          "10K",
          "10K",
          "10K",
          "10K",
          "10K",
          "10K",
          "10K",
          "10K",
          "10K",
          "10K",
          "10K",
          "10K",
          "10K",
          "10K",
          "10K",
          "10K",
          "10K",
          "10K",
          "10K",
          "10K",
          "10K",
          "10K",
          "10K",
          "10K",
          "10K",
          "10K",
          "10K",
          "10K",
          "10K",
          "10K",
          "10K",
          "10K",
          "10K",
          "10K",
          "10K",
          "10K",
          "10K",
          "10K",
          "10K",
          "10K",
          "100K",
          "100K",
          "100K",
          "100K",
          "100K",
          "100K",
          "100K",
          "100K",
          "100K",
          "100K",
          "100K",
          "100K",
          "100K",
          "100K",
          "100K",
          "100K",
          "100K",
          "100K",
          "100K",
          "100K",
          "100K",
          "100K",
          "100K",
          "100K",
          "100K",
          "100K",
          "100K",
          "100K",
          "100K",
          "100K",
          "100K",
          "100K",
          "100K",
          "100K",
          "100K",
          "100K",
          "100K",
          "100K",
          "100K",
          "100K",
          "100K",
          "100K",
          "100K",
          "100K",
          "100K",
          "100K",
          "100K",
          "100K",
          "100K",
          "100K",
          "100K",
          "100K",
          "100K",
          "100K",
          "100K",
          "100K",
          "100K",
          "100K",
          "100K",
          "100K",
          "100K",
          "100K",
          "100K",
          "100K",
          "100K",
          "100K",
          "100K",
          "100K",
          "100K",
          "100K",
          "100K",
          "100K",
          "100K",
          "100K",
          "100K",
          "100K",
          "100K",
          "100K",
          "100K",
          "100K",
          "100K",
          "100K",
          "100K",
          "100K",
          "100K",
          "100K",
          "100K",
          "100K",
          "100K",
          "100K",
          "100K",
          "100K",
          "100K",
          "100K",
          "100K",
          "100K",
          "100K",
          "100K",
          "100K",
          "100K",
          "100K",
          "100K",
          "100K",
          "100K",
          "100K",
          "100K",
          "100K",
          "100K",
          "100K",
          "100K",
          "100K",
          "100K",
          "100K",
          "100K",
          "100K",
          "100K",
          "100K",
          "100K",
          "100K",
          "100K",
          "100K",
          "100K",
          "100K",
          "100K",
          "100K",
          "100K",
          "100K",
          "100K",
          "100K",
          "100K",
          "100K",
          "100K",
          "100K",
          "350K",
          "350K",
          "350K",
          "350K",
          "350K",
          "350K",
          "350K",
          "350K",
          "350K",
          "350K",
          "350K",
          "350K",
          "350K",
          "350K",
          "350K",
          "350K",
          "350K",
          "350K",
          "350K",
          "350K",
          "350K",
          "350K",
          "350K",
          "350K",
          "350K",
          "350K",
          "350K",
          "350K",
          "350K",
          "350K",
          "350K",
          "350K",
          "350K",
          "350K",
          "350K",
          "350K",
          "350K",
          "350K",
          "350K",
          "350K",
          "350K",
          "350K",
          "350K",
          "350K",
          "350K",
          "350K",
          "350K",
          "350K",
          "350K",
          "350K",
          "350K",
          "350K",
          "350K",
          "350K",
          "350K",
          "350K",
          "350K",
          "350K",
          "350K",
          "350K",
          "350K",
          "350K",
          "350K",
          "350K",
          "350K",
          "350K",
          "350K",
          "350K",
          "350K",
          "350K",
          "350K",
          "350K",
          "350K",
          "350K",
          "350K",
          "350K",
          "350K",
          "350K",
          "350K",
          "350K",
          "350K",
          "350K",
          "350K",
          "350K",
          "350K",
          "350K",
          "350K",
          "350K",
          "350K",
          "350K",
          "350K",
          "350K",
          "350K",
          "350K",
          "350K",
          "350K",
          "350K",
          "350K",
          "350K",
          "350K",
          "350K",
          "350K",
          "350K",
          "350K",
          "350K",
          "350K",
          "350K",
          "350K",
          "350K",
          "350K",
          "350K",
          "350K",
          "350K",
          "350K",
          "350K",
          "350K",
          "350K",
          "350K",
          "350K",
          "350K",
          "350K",
          "350K",
          "350K",
          "350K",
          "350K",
          "350K",
          "350K",
          "350K",
          "350K",
          "350K",
          "350K",
          "350K",
          "350K",
          "550K",
          "550K",
          "550K",
          "550K",
          "550K",
          "550K",
          "550K",
          "550K",
          "550K",
          "550K",
          "550K",
          "550K",
          "550K",
          "550K",
          "550K",
          "550K",
          "550K",
          "550K",
          "550K",
          "550K",
          "550K",
          "550K",
          "550K",
          "550K",
          "550K",
          "550K",
          "550K",
          "550K",
          "550K",
          "550K",
          "550K",
          "550K",
          "550K",
          "550K",
          "550K",
          "550K",
          "550K",
          "550K",
          "550K",
          "550K",
          "550K",
          "550K",
          "550K",
          "550K",
          "550K",
          "550K",
          "550K",
          "550K",
          "550K",
          "550K",
          "550K",
          "550K",
          "550K",
          "550K",
          "550K",
          "550K",
          "550K",
          "550K",
          "550K",
          "550K",
          "550K",
          "550K",
          "550K",
          "550K",
          "550K",
          "550K",
          "550K",
          "550K",
          "550K",
          "550K",
          "550K",
          "550K",
          "550K",
          "550K",
          "550K",
          "550K",
          "550K",
          "550K",
          "550K",
          "550K",
          "550K",
          "550K",
          "550K",
          "550K",
          "550K",
          "550K",
          "550K",
          "550K",
          "550K",
          "550K",
          "550K",
          "550K",
          "550K",
          "550K",
          "550K",
          "550K",
          "550K",
          "550K",
          "550K",
          "550K",
          "550K",
          "550K",
          "550K",
          "550K",
          "550K",
          "550K",
          "550K",
          "550K",
          "550K",
          "550K",
          "550K",
          "550K",
          "550K",
          "550K",
          "550K",
          "550K",
          "550K",
          "550K",
          "550K",
          "550K",
          "550K",
          "550K",
          "550K",
          "550K",
          "550K",
          "550K",
          "550K",
          "550K",
          "550K",
          "550K",
          "550K",
          "550K",
          "550K",
          "1M",
          "1M",
          "1M",
          "1M",
          "1M",
          "1M",
          "1M",
          "1M",
          "1M",
          "1M",
          "1M",
          "1M",
          "1M",
          "1M",
          "1M",
          "1M",
          "1M",
          "1M",
          "1M",
          "1M",
          "1M",
          "1M",
          "1M",
          "1M",
          "1M",
          "1M",
          "1M",
          "1M",
          "1M",
          "1M",
          "1M",
          "1M",
          "1M",
          "1M",
          "1M",
          "1M",
          "1M",
          "1M",
          "1M",
          "1M",
          "1M",
          "1M",
          "1M",
          "1M",
          "1M",
          "1M",
          "1M",
          "1M",
          "1M",
          "1M",
          "1M",
          "1M",
          "1M",
          "1M",
          "1M",
          "1M",
          "1M",
          "1M",
          "1M",
          "1M",
          "1M",
          "1M",
          "1M",
          "1M",
          "1M",
          "1M",
          "1M",
          "1M",
          "1M",
          "1M",
          "1M",
          "1M",
          "1M",
          "1M",
          "1M",
          "1M",
          "1M",
          "1M",
          "1M",
          "1M",
          "1M",
          "1M",
          "1M",
          "1M",
          "1M",
          "1M",
          "1M",
          "1M",
          "1M",
          "1M",
          "1M",
          "1M",
          "1M",
          "1M",
          "1M",
          "1M",
          "1M",
          "1M",
          "1M",
          "1M",
          "1M",
          "1M",
          "1M",
          "1M",
          "1M",
          "1M",
          "1M",
          "1M",
          "1M",
          "1M",
          "1M",
          "1M",
          "1M",
          "1M",
          "1M",
          "1M",
          "1M",
          "1M",
          "1M",
          "1M",
          "1M",
          "1M",
          "1M",
          "1M",
          "1M",
          "1M",
          "1M",
          "1M",
          "1M",
          "1M",
          "1M",
          "1M",
          "1M",
          "10M",
          "10M",
          "10M",
          "10M",
          "10M",
          "10M",
          "10M",
          "10M",
          "10M",
          "10M",
          "10M",
          "10M",
          "10M",
          "10M",
          "10M",
          "10M",
          "10M",
          "10M",
          "10M",
          "10M",
          "10M",
          "10M",
          "10M",
          "10M",
          "10M",
          "10M",
          "10M",
          "10M",
          "10M",
          "10M",
          "10M",
          "10M",
          "10M",
          "10M",
          "10M",
          "10M",
          "10M",
          "10M",
          "10M",
          "10M",
          "10M",
          "10M",
          "10M",
          "10M",
          "10M",
          "10M",
          "10M",
          "10M",
          "10M",
          "10M",
          "10M",
          "10M",
          "10M",
          "10M",
          "10M",
          "10M",
          "10M",
          "10M",
          "10M",
          "10M",
          "10M",
          "10M",
          "10M",
          "10M",
          "10M",
          "10M",
          "10M",
          "10M",
          "10M",
          "10M",
          "10M",
          "10M",
          "10M",
          "10M",
          "10M",
          "10M",
          "10M",
          "10M",
          "10M",
          "10M",
          "10M",
          "10M",
          "10M",
          "10M",
          "10M",
          "10M",
          "10M",
          "10M",
          "10M",
          "10M",
          "10M",
          "10M",
          "10M",
          "10M",
          "10M",
          "10M",
          "10M",
          "10M",
          "10M",
          "10M",
          "10M",
          "10M",
          "10M",
          "10M",
          "10M",
          "10M",
          "10M",
          "10M",
          "10M",
          "10M",
          "10M",
          "10M",
          "10M",
          "10M",
          "10M",
          "10M",
          "10M",
          "10M",
          "10M",
          "10M",
          "10M",
          "10M",
          "10M",
          "10M",
          "10M",
          "10M",
          "10M",
          "10M",
          "10M",
          "10M",
          "10M",
          "10M",
          "10M"
         ],
         "x0": " ",
         "xaxis": "x",
         "y": [
          0.075556247,
          0,
          0,
          0,
          0.5145689199999999,
          0,
          0.5145983859899999,
          1.2070548,
          0.6130793,
          1.1878597235626498,
          0,
          0.7196409062640002,
          0.2050397097205999,
          0.5595185100000001,
          0.5559145,
          0.1226851509999999,
          0.2344159999999999,
          0,
          0.19986406,
          1.0476539935940006,
          0.14568261,
          1.2474723531999996,
          0.5567939607,
          0,
          0.9840032056232992,
          1.0476539935940006,
          0.7803202680000008,
          0.845017046204466,
          0.8050982527299999,
          0.814519438119999,
          0,
          0,
          0.1143673,
          0.6398502927999998,
          0.3556135000000001,
          0.5677136110000001,
          0.6128515299999999,
          0.7196409062640002,
          0.6073012450799998,
          0.5758149594999998,
          0.9386426318040012,
          0.9013378076577996,
          0.9692024807849992,
          0,
          0.5559143,
          0.10954346,
          0,
          0.5216682377999998,
          0.4166522799999999,
          1.828808299559637,
          0,
          0.5585876,
          0.1770586999999999,
          1.0476539935940006,
          0.1226851509999999,
          1.0476539935940006,
          0,
          0.7039849814599999,
          0.9692024807849992,
          0.5567939607,
          1.4011127057649002,
          0.5559145,
          1.4252964925059035,
          0,
          1.4430920144551922,
          0,
          0.7267974317600007,
          0,
          0.5721822010000001,
          0.5595185100000001,
          0.6091445845900002,
          0.8807847577240003,
          0,
          0.9662519585925996,
          0.0616858999999999,
          0.2886784144,
          0.5559145,
          0.7196409062640002,
          0.7962885481100002,
          0.5559145,
          0.7196409062640002,
          0,
          0.7948501151599998,
          1.0237659840000024,
          0,
          0.3878527668130002,
          0.7786355760080003,
          0.9700263660563884,
          0.00344444,
          0,
          0,
          0.7177529619640086,
          0,
          0.7922958050999999,
          0,
          0,
          0.19986406,
          0.0068779499999999,
          0.55591456,
          0.7196409062640002,
          1.2070548,
          0.6152412890899999,
          0,
          0.5559145,
          0.55951865,
          0.5096626568999999,
          1.0237659840000024,
          0.7275416012213392,
          0.6091445845900002,
          0,
          0.7196409062640002,
          0.55951865,
          0.55951865,
          0.7922958050999999,
          0.1059248999999999,
          0.55951865,
          1.4011127057649002,
          0.5559143,
          0.1143673,
          0.567713611,
          0,
          0,
          0,
          0.5562822710999997,
          0.3587575339,
          0.4166522799999999,
          0.4166522799999999,
          0.19986406,
          1.826874978370422,
          1.4462686310854689,
          0.4435171,
          0.9692024807849996,
          0.1164077449999999,
          0.011556247,
          0,
          0,
          0,
          0.2362023368,
          0,
          0.23706317039,
          0.8359061999999999,
          0.1928292999999999,
          0.5295900625226598,
          0,
          0.0898812172639998,
          0.0203485917205999,
          0.2185551899999999,
          0.2098028999999999,
          0.096083811,
          0.1242159999999999,
          0,
          0.01592446,
          0.1171783559939999,
          0.0219435899999999,
          0.8470584552,
          0.2181099216999999,
          0,
          0.3903819680433,
          0.1171783559939999,
          0.3859591231999998,
          0.4174621266044647,
          0.3926945805299998,
          0.4215176501199998,
          0,
          0,
          0.0162359,
          0.2308610828,
          0.1990135,
          0.2114769709999999,
          0.236526414,
          0.0898812172639998,
          0.24582317428,
          0.2117204801,
          0.4313883652040001,
          0.4530151042578,
          0.4722459968649998,
          0,
          0.2098026999999999,
          0.0326066599999999,
          0,
          0.2795595038,
          0.16203142,
          1.0530685644396345,
          0,
          0.2098027999999999,
          0.0970586999999999,
          0.1171783559939999,
          0.096083811,
          0.1171783559939999,
          0,
          0.27970053466,
          0.4722459968649998,
          0.2181099216999999,
          0.370686994164899,
          0.2098028999999999,
          0.4531592791058995,
          0,
          0.895016578395193,
          0,
          0.3062107779599999,
          0,
          0.2284746729999999,
          0.2185551899999999,
          0.24622841919,
          0.4377031279239999,
          0,
          0.4744173866526,
          0.0220859,
          0.0213050498,
          0.2098028999999999,
          0.0898812172639998,
          0.3991458581100001,
          0.2098028999999999,
          0.0898812172639998,
          0,
          0.38046742636,
          0.077458832,
          0,
          0.2013937530129999,
          0.3329799422079999,
          0.4429433942763896,
          0.0003584799999999,
          0,
          0,
          0.2774020718440084,
          0,
          0.3877815207000002,
          0,
          0,
          0.01592446,
          0.0024779499999999,
          0.2109192599999999,
          0.0898812172639998,
          0.8359061999999999,
          0.23664244149,
          0,
          0.2098028999999999,
          0.22203385,
          0.2340305669,
          0.077458832,
          0.2518208020813398,
          0.24622841919,
          0,
          0.0898812172639998,
          0.22203385,
          0.22203385,
          0.3877815207000002,
          0.0128593,
          0.22203385,
          0.370686994164899,
          0.2098026999999999,
          0.0162359,
          0.2114769709999999,
          0,
          0,
          0,
          0.2180503071,
          0.1581269338999999,
          0.16203142,
          0.16203142,
          0.01592446,
          1.0795254322904293,
          0.8621508100254726,
          0.1467171,
          0.4722459968649993,
          0.0232327449999999,
          0.000229907,
          0,
          0,
          0,
          0.07638682,
          0,
          0.0776326423899999,
          0.2937057999999999,
          0.0563533,
          0.1289706440406601,
          0,
          0.008477064024,
          0.0023397697206,
          0.00292347,
          0.0012110999999999,
          0.0096748889999999,
          0.012856,
          0,
          0.00104756,
          0.011300552494,
          0.0021033899999999,
          0.2995151832000001,
          0.0034687892999999,
          0,
          0.0986670459032999,
          0.011300552494,
          0.0677092359999999,
          0.0930961743844653,
          0.0791748937299999,
          0.1140102261199999,
          0,
          0,
          0.0105326999999999,
          0.0605914357999999,
          0.0008255,
          0.014929049,
          0.034911542,
          0.008477064024,
          0.01801285848,
          0.0161774451,
          0.0792037024639999,
          0.1290582364978001,
          0.1052468123649999,
          0,
          0.0025210999999999,
          0.01560206,
          0,
          0.1022288638,
          0.0387644199999999,
          0.2661257876896433,
          0,
          0.0031629999999999,
          0.0058987,
          0.011300552494,
          0.0096748889999999,
          0.011300552494,
          0,
          0.0735016488999999,
          0.1052468123649999,
          0.0034687892999999,
          0.0369493395849001,
          0.0012110999999999,
          0.0570033489459001,
          0,
          0.3351742952451907,
          0,
          0.02881213478,
          0,
          0.0200578249999999,
          0.00292347,
          0.01802912837,
          0.1163992294439999,
          0,
          0.1338490724526,
          0.000045900000000028736,
          0.0017184342,
          0.0012110999999999,
          0.008477064024,
          0.0832133344899999,
          0.0012110999999999,
          0.008477064024,
          0,
          0.07596447264,
          0.0072652059999999,
          0,
          0.0163052341129999,
          0.080813359008,
          0.11355500434639,
          0.00003414000000004691,
          0,
          0,
          0.059439744100008,
          0,
          0.0659339611399999,
          0,
          0,
          0.00104756,
          0.0016779499999999,
          0.01453986,
          0.008477064024,
          0.2937057999999999,
          0.0291006415099999,
          0,
          0.0012110999999999,
          0.00254691,
          0.0761556148999999,
          0.0072652059999999,
          0.0618709583413399,
          0.01802912837,
          0,
          0.008477064024,
          0.00254691,
          0.00254691,
          0.06593396114,
          0.0003613,
          0.00254691,
          0.0369493395849001,
          0.0025210999999999,
          0.0105326999999999,
          0.014929049,
          0,
          0,
          0,
          0.0034246477,
          0.0529871379,
          0.0387644199999999,
          0.0387644199999999,
          0.00104756,
          0.3803981250724096,
          0.3602934695054728,
          0.0195943,
          0.1052468123649998,
          0.0003211249999999,
          0.0008076755714285,
          0,
          0,
          0,
          0.0351514162857143,
          0,
          0.0352208379899999,
          0.0982258,
          0.0167075857142856,
          0.0640148939058883,
          0,
          0.0024287363325714,
          0.0009346074063142,
          0.0006926042857142,
          0.0001747857142857,
          0.0029180204285714,
          0.0018674285714285,
          0,
          0.0002731914285714,
          0.0031975470254285,
          0.0015421242857142,
          0.0997679646285714,
          0.0012776070999999,
          0,
          0.0385307702490142,
          0.0031975470254285,
          0.0202886314285714,
          0.0364665975623794,
          0.0268247172442856,
          0.0482597784057142,
          0,
          0,
          0.0059834142857142,
          0.0181816851714285,
          0.0001454999999999,
          0.0034766175714285,
          0.0094148017142856,
          0.0024287363325714,
          0.0068832375371428,
          0.0041936589285714,
          0.0245375886308572,
          0.0480124126977999,
          0.0365816166135714,
          0,
          0.0002439571428571,
          0.0099277171428571,
          0,
          0.0424401609428571,
          0.0202252999999999,
          0.0888604222996449,
          0,
          0.0017438285714285,
          0.0036986999999999,
          0.0031975470254285,
          0.0029180204285714,
          0.0031975470254285,
          0,
          0.0210148508514285,
          0.0365816166135714,
          0.0012776070999999,
          0.0103948789029,
          0.0001747857142857,
          0.0159670006833285,
          0,
          0.1372056320082477,
          0,
          0.0094304433428571,
          0,
          0.0089195861428571,
          0.0006926042857142,
          0.0068915478985714,
          0.0481704488954285,
          0,
          0.0599912065440286,
          1.8571428567936118e-7,
          0.0004730404857142,
          0.0001747857142857,
          0.0024287363325714,
          0.0296646435957143,
          0.0001747857142857,
          0.0024287363325714,
          0,
          0.0215269432399999,
          0.0020065982857142,
          0,
          0.0042282128272857,
          0.0246781570937142,
          0.04295516113039,
          0.00001148857142857537,
          0,
          0,
          0.0234461239977223,
          0,
          0.0205880712542857,
          0,
          0,
          0.0002731914285714,
          0.0008436642857141,
          0.0033186971428571,
          0.0024287363325714,
          0.0982258,
          0.0110509118557143,
          0,
          0.0001747857142857,
          0.0005654585714285,
          0.0350923234714285,
          0.0020065982857142,
          0.0207439441327686,
          0.0068915478985714,
          0,
          0.0024287363325714,
          0.0005654585714285,
          0.0005654585714285,
          0.0205880712542857,
          0.0001094714285714,
          0.0005654585714285,
          0.0103948789029,
          0.0002439571428571,
          0.0059834142857142,
          0.0034766175714285,
          0,
          0,
          0,
          0.0012750314714285,
          0.0203706807571428,
          0.0202252999999999,
          0.0202252999999999,
          0.0002731914285714,
          0.1847784224074692,
          0.1454755027446148,
          0.0067548714285713,
          0.0365816166135714,
          0.00009139757142855128,
          0.000676247,
          0,
          0,
          0,
          0.025198425890909,
          0,
          0.0252060740263636,
          0.0698657999999999,
          0.0092405727272727,
          0.049194051001314,
          0,
          0.0015453815603636,
          0.0007237350605999,
          0.0003964081818181,
          0.0002240090909091,
          0.0014999799090908,
          0.0006850909090908,
          0,
          0.0001880036363636,
          0.0020363067812727,
          0.0011947554545455,
          0.0709788092,
          0.0009234750272727,
          0,
          0.0264691129085727,
          0.0020363067812727,
          0.0108832553818181,
          0.0244684303908287,
          0.0161298850336363,
          0.0336343786654545,
          0,
          0,
          0.0046796090909091,
          0.0107511680181818,
          0.00002859090909085684,
          0.0017530453636363,
          0.0059040978181818,
          0.0015453815603636,
          0.004919850970909,
          0.0021494931181818,
          0.0139291793930909,
          0.0317602646474363,
          0.0252192545195454,
          0,
          0.0003135363636364,
          0.0077930781818182,
          0,
          0.0291293347090909,
          0.0141776636363636,
          0.0573277370092815,
          0,
          0.000989,
          0.0028841545454545,
          0.0020363067812727,
          0.0014999799090908,
          0.0020363067812727,
          0,
          0.0119620291818181,
          0.0252192545195454,
          0.0009234750272727,
          0.0066136119070818,
          0.0002240090909091,
          0.0101403099064454,
          0,
          0.1020297496900267,
          0,
          0.0065748569545454,
          0,
          0.007028598090909,
          0.0003964081818181,
          0.0049213702063636,
          0.0335853855967272,
          0,
          0.0441785664365999,
          0.000002263636363574981,
          0.0002721045272727,
          0.0002240090909091,
          0.0015453815603636,
          0.0191916608554545,
          0.0002240090909091,
          0.0015453815603636,
          0,
          0.01163797196,
          0.001328314,
          0,
          0.0021674997837272,
          0.0136156009916363,
          0.0298036086531354,
          0.000006898181818221887,
          0,
          0,
          0.0175056181078261,
          0,
          0.0114933217218182,
          0,
          0,
          0.0001880036363636,
          0.000648859090909,
          0.0016604381818182,
          0.0015453815603636,
          0.0698657999999999,
          0.0078531963336363,
          0,
          0.0002240090909091,
          0.0003653463636363,
          0.0250590767181818,
          0.001328314,
          0.0115092732027945,
          0.0049213702063636,
          0,
          0.0015453815603636,
          0.0003653463636363,
          0.0003653463636363,
          0.0114933217218181,
          0.00006953636363637502,
          0.0003653463636363,
          0.0066136119070818,
          0.0003135363636364,
          0.0046796090909091,
          0.0017530453636363,
          0,
          0,
          0,
          0.0009208249727272,
          0.0138747164454545,
          0.0141776636363636,
          0.0141776636363636,
          0.0001880036363636,
          0.1416940647760666,
          0.1035465911249262,
          0.004177209090909,
          0.0252192545195454,
          0.00005087772727274228,
          0.000734247,
          0,
          0,
          0,
          0.0144974219999999,
          0,
          0.0146159759899999,
          0.0476462,
          0.0035952999999999,
          0.03550078670006,
          0,
          0.0008569895559999,
          0.0004224729206,
          0.0001603699999999,
          0.00004109999999999855,
          0.000504069,
          0.000406,
          0,
          0.0001027,
          0.001126882406,
          0.00053281,
          0.0483441242,
          0.0004840799,
          0,
          0.0177498908813,
          0.001126882406,
          0.0045114114,
          0.0147068840624652,
          0.00849992327,
          0.0192350961199999,
          0,
          0,
          0.0026146999999999,
          0.0051344506,
          0.0000095,
          0.000668389,
          0.003781608,
          0.0008569895559999,
          0.0033442727199999,
          0.0008526135,
          0.0067301144579999,
          0.0177129504578,
          0.0164192357989999,
          0,
          0.00008909999999999853,
          0.00477126,
          0,
          0.0176455638,
          0.0081373,
          0.0317915396370452,
          0,
          0.000437,
          0.0019838999999999,
          0.001126882406,
          0.000504069,
          0.001126882406,
          0,
          0.0057274200399999,
          0.0164192357989999,
          0.0004840799,
          0.0036350389729,
          0.00004109999999999855,
          0.0055595301979,
          0,
          0.0721613533441905,
          0,
          0.0040370134999999,
          0,
          0.0053598829999999,
          0.0001603699999999,
          0.00334672585,
          0.019288619964,
          0,
          0.0304351239646,
          0.0000019000000000087312,
          0.0001634423999999,
          0.00004109999999999855,
          0.0008569895559999,
          0.01070408401,
          0.00004109999999999855,
          0.0008569895559999,
          0,
          0.0049606451599999,
          0.000701976,
          0,
          0.000809717487,
          0.0068606881479999,
          0.0192293385623899,
          0.000002960000000006175,
          0,
          0,
          0.012696040733808,
          0,
          0.00501598018,
          0,
          0,
          0.0001027,
          0.0003799499999999,
          0.00062642,
          0.0008569895559999,
          0.0476462,
          0.0049494291299999,
          0,
          0.00004109999999999855,
          0.00016275,
          0.0144768948999999,
          0.000701976,
          0.0053238941233399,
          0.00334672585,
          0,
          0.0008569895559999,
          0.00016275,
          0.00016275,
          0.00501598018,
          0.000038900000000001454,
          0.00016275,
          0.0036350389729,
          0.00008909999999999855,
          0.0026146999999999,
          0.000668389,
          0,
          0,
          0,
          0.0004819643,
          0.0080597359,
          0.0081373,
          0.0081373,
          0.0001027,
          0.1017935741212102,
          0.0690439195594719,
          0.0024832999999999,
          0.0164192357989999,
          0.000028074999999993683,
          0.000767647,
          0,
          0,
          0,
          0.0011144199999999,
          0,
          0.0011508643899999,
          0.0067098,
          0.0000481,
          0.01090239723912,
          0,
          0.00008568443599999834,
          0.00003361858059999999,
          0.000020470000000007893,
          0.0000034999999999999995,
          0.000031131000000000675,
          0,
          0,
          0.000009619999999990977,
          0.000112353106,
          0.00008381000000000058,
          0.0069060264,
          0.0001904761,
          0,
          0.0051944251348999,
          0.000112353106,
          0.0001563354,
          0.0034570871894652,
          0.00211847613,
          0.0013247557199999,
          0,
          0,
          0.0002215,
          0.0004732913999999,
          0.0000012999999999999998,
          0.00003389099999999544,
          0.0005969499999999,
          0.00008568443599999834,
          0.00070434852,
          0.00004407349999999236,
          0.000891251718,
          0.0015448803503999,
          0.0045699629149999,
          0,
          0.00000870000000000582,
          0.0003562599999999,
          0,
          0.002463899,
          0.0006312999999999,
          0.003165078087845,
          0,
          0.0000038,
          0.0004222999999999,
          0.000112353106,
          0.000031131000000000675,
          0.000112353106,
          0,
          0.00104188796,
          0.0045699629149999,
          0.0001904761,
          0.0003608285288999,
          0.0000034999999999999995,
          0.0005551385758999,
          0,
          0.0161661755619308,
          0,
          0.0009748472599999,
          0,
          0.001926875,
          0.000020470000000007893,
          0.0007041112299999,
          0.0014371956239999,
          0,
          0.0072134736506,
          3e-7,
          0.0000149584000000042,
          0.0000034999999999999995,
          0.00008568443599999834,
          0.00200500851,
          0.0000035,
          0.00008568443599999834,
          0,
          0.0005162642399999,
          0.00007129600000000128,
          0,
          0.000045187988999996935,
          0.000863785228,
          0.0060694080363899,
          3.800000000004729e-7,
          0,
          0,
          0.003301942921608,
          0,
          0.00054032956,
          0,
          0,
          0.000009619999999990977,
          0.00001275,
          0.00002925999999999476,
          0.00008568443599999834,
          0.0067098,
          0.00112392961,
          0,
          0.0000035,
          0.000021729999999990283,
          0.0011052948999999,
          0.00007129600000000128,
          0.00071629282154,
          0.0007041112299999,
          0,
          0.00008568443599999834,
          0.000021729999999990283,
          0.000021729999999990283,
          0.00054032956,
          0.0000028999999999999998,
          0.000021729999999990283,
          0.0003608285288999,
          0.000008700000000005819,
          0.0002215,
          0.000033890999999995444,
          0,
          0,
          0,
          0.0001904716999999,
          0.0004038524999999,
          0.0006312999999999,
          0.0006312999999999,
          0.000009619999999990977,
          0.0295787270673891,
          0.0122672663160719,
          0.0003538999999999,
          0.004569962915,
          0.000003805000000035944
         ],
         "y0": " ",
         "yaxis": "y"
        }
       ],
       "layout": {
        "boxmode": "group",
        "legend": {
         "title": {
          "text": "version"
         },
         "tracegroupgap": 0
        },
        "margin": {
         "t": 60
        },
        "template": {
         "data": {
          "bar": [
           {
            "error_x": {
             "color": "#2a3f5f"
            },
            "error_y": {
             "color": "#2a3f5f"
            },
            "marker": {
             "line": {
              "color": "#E5ECF6",
              "width": 0.5
             },
             "pattern": {
              "fillmode": "overlay",
              "size": 10,
              "solidity": 0.2
             }
            },
            "type": "bar"
           }
          ],
          "barpolar": [
           {
            "marker": {
             "line": {
              "color": "#E5ECF6",
              "width": 0.5
             },
             "pattern": {
              "fillmode": "overlay",
              "size": 10,
              "solidity": 0.2
             }
            },
            "type": "barpolar"
           }
          ],
          "carpet": [
           {
            "aaxis": {
             "endlinecolor": "#2a3f5f",
             "gridcolor": "white",
             "linecolor": "white",
             "minorgridcolor": "white",
             "startlinecolor": "#2a3f5f"
            },
            "baxis": {
             "endlinecolor": "#2a3f5f",
             "gridcolor": "white",
             "linecolor": "white",
             "minorgridcolor": "white",
             "startlinecolor": "#2a3f5f"
            },
            "type": "carpet"
           }
          ],
          "choropleth": [
           {
            "colorbar": {
             "outlinewidth": 0,
             "ticks": ""
            },
            "type": "choropleth"
           }
          ],
          "contour": [
           {
            "colorbar": {
             "outlinewidth": 0,
             "ticks": ""
            },
            "colorscale": [
             [
              0,
              "#0d0887"
             ],
             [
              0.1111111111111111,
              "#46039f"
             ],
             [
              0.2222222222222222,
              "#7201a8"
             ],
             [
              0.3333333333333333,
              "#9c179e"
             ],
             [
              0.4444444444444444,
              "#bd3786"
             ],
             [
              0.5555555555555556,
              "#d8576b"
             ],
             [
              0.6666666666666666,
              "#ed7953"
             ],
             [
              0.7777777777777778,
              "#fb9f3a"
             ],
             [
              0.8888888888888888,
              "#fdca26"
             ],
             [
              1,
              "#f0f921"
             ]
            ],
            "type": "contour"
           }
          ],
          "contourcarpet": [
           {
            "colorbar": {
             "outlinewidth": 0,
             "ticks": ""
            },
            "type": "contourcarpet"
           }
          ],
          "heatmap": [
           {
            "colorbar": {
             "outlinewidth": 0,
             "ticks": ""
            },
            "colorscale": [
             [
              0,
              "#0d0887"
             ],
             [
              0.1111111111111111,
              "#46039f"
             ],
             [
              0.2222222222222222,
              "#7201a8"
             ],
             [
              0.3333333333333333,
              "#9c179e"
             ],
             [
              0.4444444444444444,
              "#bd3786"
             ],
             [
              0.5555555555555556,
              "#d8576b"
             ],
             [
              0.6666666666666666,
              "#ed7953"
             ],
             [
              0.7777777777777778,
              "#fb9f3a"
             ],
             [
              0.8888888888888888,
              "#fdca26"
             ],
             [
              1,
              "#f0f921"
             ]
            ],
            "type": "heatmap"
           }
          ],
          "heatmapgl": [
           {
            "colorbar": {
             "outlinewidth": 0,
             "ticks": ""
            },
            "colorscale": [
             [
              0,
              "#0d0887"
             ],
             [
              0.1111111111111111,
              "#46039f"
             ],
             [
              0.2222222222222222,
              "#7201a8"
             ],
             [
              0.3333333333333333,
              "#9c179e"
             ],
             [
              0.4444444444444444,
              "#bd3786"
             ],
             [
              0.5555555555555556,
              "#d8576b"
             ],
             [
              0.6666666666666666,
              "#ed7953"
             ],
             [
              0.7777777777777778,
              "#fb9f3a"
             ],
             [
              0.8888888888888888,
              "#fdca26"
             ],
             [
              1,
              "#f0f921"
             ]
            ],
            "type": "heatmapgl"
           }
          ],
          "histogram": [
           {
            "marker": {
             "pattern": {
              "fillmode": "overlay",
              "size": 10,
              "solidity": 0.2
             }
            },
            "type": "histogram"
           }
          ],
          "histogram2d": [
           {
            "colorbar": {
             "outlinewidth": 0,
             "ticks": ""
            },
            "colorscale": [
             [
              0,
              "#0d0887"
             ],
             [
              0.1111111111111111,
              "#46039f"
             ],
             [
              0.2222222222222222,
              "#7201a8"
             ],
             [
              0.3333333333333333,
              "#9c179e"
             ],
             [
              0.4444444444444444,
              "#bd3786"
             ],
             [
              0.5555555555555556,
              "#d8576b"
             ],
             [
              0.6666666666666666,
              "#ed7953"
             ],
             [
              0.7777777777777778,
              "#fb9f3a"
             ],
             [
              0.8888888888888888,
              "#fdca26"
             ],
             [
              1,
              "#f0f921"
             ]
            ],
            "type": "histogram2d"
           }
          ],
          "histogram2dcontour": [
           {
            "colorbar": {
             "outlinewidth": 0,
             "ticks": ""
            },
            "colorscale": [
             [
              0,
              "#0d0887"
             ],
             [
              0.1111111111111111,
              "#46039f"
             ],
             [
              0.2222222222222222,
              "#7201a8"
             ],
             [
              0.3333333333333333,
              "#9c179e"
             ],
             [
              0.4444444444444444,
              "#bd3786"
             ],
             [
              0.5555555555555556,
              "#d8576b"
             ],
             [
              0.6666666666666666,
              "#ed7953"
             ],
             [
              0.7777777777777778,
              "#fb9f3a"
             ],
             [
              0.8888888888888888,
              "#fdca26"
             ],
             [
              1,
              "#f0f921"
             ]
            ],
            "type": "histogram2dcontour"
           }
          ],
          "mesh3d": [
           {
            "colorbar": {
             "outlinewidth": 0,
             "ticks": ""
            },
            "type": "mesh3d"
           }
          ],
          "parcoords": [
           {
            "line": {
             "colorbar": {
              "outlinewidth": 0,
              "ticks": ""
             }
            },
            "type": "parcoords"
           }
          ],
          "pie": [
           {
            "automargin": true,
            "type": "pie"
           }
          ],
          "scatter": [
           {
            "fillpattern": {
             "fillmode": "overlay",
             "size": 10,
             "solidity": 0.2
            },
            "type": "scatter"
           }
          ],
          "scatter3d": [
           {
            "line": {
             "colorbar": {
              "outlinewidth": 0,
              "ticks": ""
             }
            },
            "marker": {
             "colorbar": {
              "outlinewidth": 0,
              "ticks": ""
             }
            },
            "type": "scatter3d"
           }
          ],
          "scattercarpet": [
           {
            "marker": {
             "colorbar": {
              "outlinewidth": 0,
              "ticks": ""
             }
            },
            "type": "scattercarpet"
           }
          ],
          "scattergeo": [
           {
            "marker": {
             "colorbar": {
              "outlinewidth": 0,
              "ticks": ""
             }
            },
            "type": "scattergeo"
           }
          ],
          "scattergl": [
           {
            "marker": {
             "colorbar": {
              "outlinewidth": 0,
              "ticks": ""
             }
            },
            "type": "scattergl"
           }
          ],
          "scattermapbox": [
           {
            "marker": {
             "colorbar": {
              "outlinewidth": 0,
              "ticks": ""
             }
            },
            "type": "scattermapbox"
           }
          ],
          "scatterpolar": [
           {
            "marker": {
             "colorbar": {
              "outlinewidth": 0,
              "ticks": ""
             }
            },
            "type": "scatterpolar"
           }
          ],
          "scatterpolargl": [
           {
            "marker": {
             "colorbar": {
              "outlinewidth": 0,
              "ticks": ""
             }
            },
            "type": "scatterpolargl"
           }
          ],
          "scatterternary": [
           {
            "marker": {
             "colorbar": {
              "outlinewidth": 0,
              "ticks": ""
             }
            },
            "type": "scatterternary"
           }
          ],
          "surface": [
           {
            "colorbar": {
             "outlinewidth": 0,
             "ticks": ""
            },
            "colorscale": [
             [
              0,
              "#0d0887"
             ],
             [
              0.1111111111111111,
              "#46039f"
             ],
             [
              0.2222222222222222,
              "#7201a8"
             ],
             [
              0.3333333333333333,
              "#9c179e"
             ],
             [
              0.4444444444444444,
              "#bd3786"
             ],
             [
              0.5555555555555556,
              "#d8576b"
             ],
             [
              0.6666666666666666,
              "#ed7953"
             ],
             [
              0.7777777777777778,
              "#fb9f3a"
             ],
             [
              0.8888888888888888,
              "#fdca26"
             ],
             [
              1,
              "#f0f921"
             ]
            ],
            "type": "surface"
           }
          ],
          "table": [
           {
            "cells": {
             "fill": {
              "color": "#EBF0F8"
             },
             "line": {
              "color": "white"
             }
            },
            "header": {
             "fill": {
              "color": "#C8D4E3"
             },
             "line": {
              "color": "white"
             }
            },
            "type": "table"
           }
          ]
         },
         "layout": {
          "annotationdefaults": {
           "arrowcolor": "#2a3f5f",
           "arrowhead": 0,
           "arrowwidth": 1
          },
          "autotypenumbers": "strict",
          "coloraxis": {
           "colorbar": {
            "outlinewidth": 0,
            "ticks": ""
           }
          },
          "colorscale": {
           "diverging": [
            [
             0,
             "#8e0152"
            ],
            [
             0.1,
             "#c51b7d"
            ],
            [
             0.2,
             "#de77ae"
            ],
            [
             0.3,
             "#f1b6da"
            ],
            [
             0.4,
             "#fde0ef"
            ],
            [
             0.5,
             "#f7f7f7"
            ],
            [
             0.6,
             "#e6f5d0"
            ],
            [
             0.7,
             "#b8e186"
            ],
            [
             0.8,
             "#7fbc41"
            ],
            [
             0.9,
             "#4d9221"
            ],
            [
             1,
             "#276419"
            ]
           ],
           "sequential": [
            [
             0,
             "#0d0887"
            ],
            [
             0.1111111111111111,
             "#46039f"
            ],
            [
             0.2222222222222222,
             "#7201a8"
            ],
            [
             0.3333333333333333,
             "#9c179e"
            ],
            [
             0.4444444444444444,
             "#bd3786"
            ],
            [
             0.5555555555555556,
             "#d8576b"
            ],
            [
             0.6666666666666666,
             "#ed7953"
            ],
            [
             0.7777777777777778,
             "#fb9f3a"
            ],
            [
             0.8888888888888888,
             "#fdca26"
            ],
            [
             1,
             "#f0f921"
            ]
           ],
           "sequentialminus": [
            [
             0,
             "#0d0887"
            ],
            [
             0.1111111111111111,
             "#46039f"
            ],
            [
             0.2222222222222222,
             "#7201a8"
            ],
            [
             0.3333333333333333,
             "#9c179e"
            ],
            [
             0.4444444444444444,
             "#bd3786"
            ],
            [
             0.5555555555555556,
             "#d8576b"
            ],
            [
             0.6666666666666666,
             "#ed7953"
            ],
            [
             0.7777777777777778,
             "#fb9f3a"
            ],
            [
             0.8888888888888888,
             "#fdca26"
            ],
            [
             1,
             "#f0f921"
            ]
           ]
          },
          "colorway": [
           "#636efa",
           "#EF553B",
           "#00cc96",
           "#ab63fa",
           "#FFA15A",
           "#19d3f3",
           "#FF6692",
           "#B6E880",
           "#FF97FF",
           "#FECB52"
          ],
          "font": {
           "color": "#2a3f5f"
          },
          "geo": {
           "bgcolor": "white",
           "lakecolor": "white",
           "landcolor": "#E5ECF6",
           "showlakes": true,
           "showland": true,
           "subunitcolor": "white"
          },
          "hoverlabel": {
           "align": "left"
          },
          "hovermode": "closest",
          "mapbox": {
           "style": "light"
          },
          "paper_bgcolor": "white",
          "plot_bgcolor": "#E5ECF6",
          "polar": {
           "angularaxis": {
            "gridcolor": "white",
            "linecolor": "white",
            "ticks": ""
           },
           "bgcolor": "#E5ECF6",
           "radialaxis": {
            "gridcolor": "white",
            "linecolor": "white",
            "ticks": ""
           }
          },
          "scene": {
           "xaxis": {
            "backgroundcolor": "#E5ECF6",
            "gridcolor": "white",
            "gridwidth": 2,
            "linecolor": "white",
            "showbackground": true,
            "ticks": "",
            "zerolinecolor": "white"
           },
           "yaxis": {
            "backgroundcolor": "#E5ECF6",
            "gridcolor": "white",
            "gridwidth": 2,
            "linecolor": "white",
            "showbackground": true,
            "ticks": "",
            "zerolinecolor": "white"
           },
           "zaxis": {
            "backgroundcolor": "#E5ECF6",
            "gridcolor": "white",
            "gridwidth": 2,
            "linecolor": "white",
            "showbackground": true,
            "ticks": "",
            "zerolinecolor": "white"
           }
          },
          "shapedefaults": {
           "line": {
            "color": "#2a3f5f"
           }
          },
          "ternary": {
           "aaxis": {
            "gridcolor": "white",
            "linecolor": "white",
            "ticks": ""
           },
           "baxis": {
            "gridcolor": "white",
            "linecolor": "white",
            "ticks": ""
           },
           "bgcolor": "#E5ECF6",
           "caxis": {
            "gridcolor": "white",
            "linecolor": "white",
            "ticks": ""
           }
          },
          "title": {
           "x": 0.05
          },
          "xaxis": {
           "automargin": true,
           "gridcolor": "white",
           "linecolor": "white",
           "ticks": "",
           "title": {
            "standoff": 15
           },
           "zerolinecolor": "white",
           "zerolinewidth": 2
          },
          "yaxis": {
           "automargin": true,
           "gridcolor": "white",
           "linecolor": "white",
           "ticks": "",
           "title": {
            "standoff": 15
           },
           "zerolinecolor": "white",
           "zerolinewidth": 2
          }
         }
        },
        "xaxis": {
         "anchor": "y",
         "domain": [
          0,
          1
         ],
         "title": {
          "text": "number of samples"
         }
        },
        "yaxis": {
         "anchor": "x",
         "domain": [
          0,
          1
         ],
         "title": {
          "text": "total_group_error"
         }
        }
       }
      }
     },
     "metadata": {},
     "output_type": "display_data"
    }
   ],
   "source": [
    "fig = px.box(error_df, x=\"run_size_log\", y=\"total_group_error\", color='version',\n",
    "             points='suspectedoutliers')\n",
    "fig.update_layout(xaxis_title='number of samples')\n",
    "fig.show()"
   ]
  },
  {
   "cell_type": "code",
   "execution_count": 58,
   "metadata": {},
   "outputs": [
    {
     "name": "stderr",
     "output_type": "stream",
     "text": [
      "/var/folders/b1/lgrrnns50qd4q97clnst5d9xc6dz32/T/ipykernel_93246/3536939970.py:1: FutureWarning:\n",
      "\n",
      "Indexing with multiple keys (implicitly converted to a tuple of keys) will be deprecated, use a list instead.\n",
      "\n"
     ]
    },
    {
     "data": {
      "text/html": [
       "<div>\n",
       "<style scoped>\n",
       "    .dataframe tbody tr th:only-of-type {\n",
       "        vertical-align: middle;\n",
       "    }\n",
       "\n",
       "    .dataframe tbody tr th {\n",
       "        vertical-align: top;\n",
       "    }\n",
       "\n",
       "    .dataframe thead th {\n",
       "        text-align: right;\n",
       "    }\n",
       "</style>\n",
       "<table border=\"1\" class=\"dataframe\">\n",
       "  <thead>\n",
       "    <tr style=\"text-align: right;\">\n",
       "      <th></th>\n",
       "      <th>run_size</th>\n",
       "      <th>total_option_error</th>\n",
       "      <th>total_group_error</th>\n",
       "    </tr>\n",
       "  </thead>\n",
       "  <tbody>\n",
       "    <tr>\n",
       "      <th>0</th>\n",
       "      <td>1000</td>\n",
       "      <td>0.191005</td>\n",
       "      <td>0.517934</td>\n",
       "    </tr>\n",
       "    <tr>\n",
       "      <th>1</th>\n",
       "      <td>10000</td>\n",
       "      <td>0.073684</td>\n",
       "      <td>0.204293</td>\n",
       "    </tr>\n",
       "    <tr>\n",
       "      <th>2</th>\n",
       "      <td>100000</td>\n",
       "      <td>0.011632</td>\n",
       "      <td>0.041480</td>\n",
       "    </tr>\n",
       "    <tr>\n",
       "      <th>3</th>\n",
       "      <td>350000</td>\n",
       "      <td>0.004049</td>\n",
       "      <td>0.015558</td>\n",
       "    </tr>\n",
       "    <tr>\n",
       "      <th>4</th>\n",
       "      <td>550000</td>\n",
       "      <td>0.002820</td>\n",
       "      <td>0.010747</td>\n",
       "    </tr>\n",
       "    <tr>\n",
       "      <th>5</th>\n",
       "      <td>1000000</td>\n",
       "      <td>0.001719</td>\n",
       "      <td>0.006748</td>\n",
       "    </tr>\n",
       "    <tr>\n",
       "      <th>6</th>\n",
       "      <td>10000000</td>\n",
       "      <td>0.000189</td>\n",
       "      <td>0.001251</td>\n",
       "    </tr>\n",
       "  </tbody>\n",
       "</table>\n",
       "</div>"
      ],
      "text/plain": [
       "   run_size  total_option_error  total_group_error\n",
       "0      1000            0.191005           0.517934\n",
       "1     10000            0.073684           0.204293\n",
       "2    100000            0.011632           0.041480\n",
       "3    350000            0.004049           0.015558\n",
       "4    550000            0.002820           0.010747\n",
       "5   1000000            0.001719           0.006748\n",
       "6  10000000            0.000189           0.001251"
      ]
     },
     "execution_count": 58,
     "metadata": {},
     "output_type": "execute_result"
    }
   ],
   "source": [
    "avg_error_df = error_df.groupby(by=['run_size'])['total_option_error', 'total_group_error'].mean().reset_index()\n",
    "avg_error_df"
   ]
  },
  {
   "cell_type": "code",
   "execution_count": 64,
   "metadata": {},
   "outputs": [],
   "source": [
    "run_sizes = ['1K', '10K', '100K', '350K', '550K', '1M', '10M']"
   ]
  },
  {
   "cell_type": "code",
   "execution_count": 69,
   "metadata": {},
   "outputs": [
    {
     "data": {
      "application/vnd.plotly.v1+json": {
       "config": {
        "plotlyServerURL": "https://plot.ly"
       },
       "data": [
        {
         "hovertemplate": "variable=total_option_error<br>run_size=%{x}<br>value=%{y}<extra></extra>",
         "legendgroup": "total_option_error",
         "line": {
          "color": "#636efa",
          "dash": "solid",
          "shape": "spline"
         },
         "marker": {
          "symbol": "circle"
         },
         "mode": "markers+lines",
         "name": "total_option_error",
         "orientation": "v",
         "showlegend": true,
         "type": "scatter",
         "x": [
          1000,
          10000,
          100000,
          350000,
          550000,
          1000000,
          10000000
         ],
         "xaxis": "x",
         "y": [
          0.19100517107772125,
          0.0736840760391201,
          0.01163242420895074,
          0.004049292822297692,
          0.002819572331099863,
          0.0017192744278696534,
          0.00018930638163578356
         ],
         "yaxis": "y"
        },
        {
         "hovertemplate": "variable=total_group_error<br>run_size=%{x}<br>value=%{y}<extra></extra>",
         "legendgroup": "total_group_error",
         "line": {
          "color": "#EF553B",
          "dash": "solid",
          "shape": "spline"
         },
         "marker": {
          "symbol": "circle"
         },
         "mode": "markers+lines",
         "name": "total_group_error",
         "orientation": "v",
         "showlegend": true,
         "type": "scatter",
         "x": [
          1000,
          10000,
          100000,
          350000,
          550000,
          1000000,
          10000000
         ],
         "xaxis": "x",
         "y": [
          0.5179337162831096,
          0.2042931925622074,
          0.04147975675127501,
          0.015557516647372548,
          0.010746968540377414,
          0.006747728326511111,
          0.0012506190169590773
         ],
         "yaxis": "y"
        }
       ],
       "layout": {
        "legend": {
         "title": {
          "text": "variable"
         },
         "tracegroupgap": 0
        },
        "margin": {
         "t": 60
        },
        "template": {
         "data": {
          "bar": [
           {
            "error_x": {
             "color": "#2a3f5f"
            },
            "error_y": {
             "color": "#2a3f5f"
            },
            "marker": {
             "line": {
              "color": "#E5ECF6",
              "width": 0.5
             },
             "pattern": {
              "fillmode": "overlay",
              "size": 10,
              "solidity": 0.2
             }
            },
            "type": "bar"
           }
          ],
          "barpolar": [
           {
            "marker": {
             "line": {
              "color": "#E5ECF6",
              "width": 0.5
             },
             "pattern": {
              "fillmode": "overlay",
              "size": 10,
              "solidity": 0.2
             }
            },
            "type": "barpolar"
           }
          ],
          "carpet": [
           {
            "aaxis": {
             "endlinecolor": "#2a3f5f",
             "gridcolor": "white",
             "linecolor": "white",
             "minorgridcolor": "white",
             "startlinecolor": "#2a3f5f"
            },
            "baxis": {
             "endlinecolor": "#2a3f5f",
             "gridcolor": "white",
             "linecolor": "white",
             "minorgridcolor": "white",
             "startlinecolor": "#2a3f5f"
            },
            "type": "carpet"
           }
          ],
          "choropleth": [
           {
            "colorbar": {
             "outlinewidth": 0,
             "ticks": ""
            },
            "type": "choropleth"
           }
          ],
          "contour": [
           {
            "colorbar": {
             "outlinewidth": 0,
             "ticks": ""
            },
            "colorscale": [
             [
              0,
              "#0d0887"
             ],
             [
              0.1111111111111111,
              "#46039f"
             ],
             [
              0.2222222222222222,
              "#7201a8"
             ],
             [
              0.3333333333333333,
              "#9c179e"
             ],
             [
              0.4444444444444444,
              "#bd3786"
             ],
             [
              0.5555555555555556,
              "#d8576b"
             ],
             [
              0.6666666666666666,
              "#ed7953"
             ],
             [
              0.7777777777777778,
              "#fb9f3a"
             ],
             [
              0.8888888888888888,
              "#fdca26"
             ],
             [
              1,
              "#f0f921"
             ]
            ],
            "type": "contour"
           }
          ],
          "contourcarpet": [
           {
            "colorbar": {
             "outlinewidth": 0,
             "ticks": ""
            },
            "type": "contourcarpet"
           }
          ],
          "heatmap": [
           {
            "colorbar": {
             "outlinewidth": 0,
             "ticks": ""
            },
            "colorscale": [
             [
              0,
              "#0d0887"
             ],
             [
              0.1111111111111111,
              "#46039f"
             ],
             [
              0.2222222222222222,
              "#7201a8"
             ],
             [
              0.3333333333333333,
              "#9c179e"
             ],
             [
              0.4444444444444444,
              "#bd3786"
             ],
             [
              0.5555555555555556,
              "#d8576b"
             ],
             [
              0.6666666666666666,
              "#ed7953"
             ],
             [
              0.7777777777777778,
              "#fb9f3a"
             ],
             [
              0.8888888888888888,
              "#fdca26"
             ],
             [
              1,
              "#f0f921"
             ]
            ],
            "type": "heatmap"
           }
          ],
          "heatmapgl": [
           {
            "colorbar": {
             "outlinewidth": 0,
             "ticks": ""
            },
            "colorscale": [
             [
              0,
              "#0d0887"
             ],
             [
              0.1111111111111111,
              "#46039f"
             ],
             [
              0.2222222222222222,
              "#7201a8"
             ],
             [
              0.3333333333333333,
              "#9c179e"
             ],
             [
              0.4444444444444444,
              "#bd3786"
             ],
             [
              0.5555555555555556,
              "#d8576b"
             ],
             [
              0.6666666666666666,
              "#ed7953"
             ],
             [
              0.7777777777777778,
              "#fb9f3a"
             ],
             [
              0.8888888888888888,
              "#fdca26"
             ],
             [
              1,
              "#f0f921"
             ]
            ],
            "type": "heatmapgl"
           }
          ],
          "histogram": [
           {
            "marker": {
             "pattern": {
              "fillmode": "overlay",
              "size": 10,
              "solidity": 0.2
             }
            },
            "type": "histogram"
           }
          ],
          "histogram2d": [
           {
            "colorbar": {
             "outlinewidth": 0,
             "ticks": ""
            },
            "colorscale": [
             [
              0,
              "#0d0887"
             ],
             [
              0.1111111111111111,
              "#46039f"
             ],
             [
              0.2222222222222222,
              "#7201a8"
             ],
             [
              0.3333333333333333,
              "#9c179e"
             ],
             [
              0.4444444444444444,
              "#bd3786"
             ],
             [
              0.5555555555555556,
              "#d8576b"
             ],
             [
              0.6666666666666666,
              "#ed7953"
             ],
             [
              0.7777777777777778,
              "#fb9f3a"
             ],
             [
              0.8888888888888888,
              "#fdca26"
             ],
             [
              1,
              "#f0f921"
             ]
            ],
            "type": "histogram2d"
           }
          ],
          "histogram2dcontour": [
           {
            "colorbar": {
             "outlinewidth": 0,
             "ticks": ""
            },
            "colorscale": [
             [
              0,
              "#0d0887"
             ],
             [
              0.1111111111111111,
              "#46039f"
             ],
             [
              0.2222222222222222,
              "#7201a8"
             ],
             [
              0.3333333333333333,
              "#9c179e"
             ],
             [
              0.4444444444444444,
              "#bd3786"
             ],
             [
              0.5555555555555556,
              "#d8576b"
             ],
             [
              0.6666666666666666,
              "#ed7953"
             ],
             [
              0.7777777777777778,
              "#fb9f3a"
             ],
             [
              0.8888888888888888,
              "#fdca26"
             ],
             [
              1,
              "#f0f921"
             ]
            ],
            "type": "histogram2dcontour"
           }
          ],
          "mesh3d": [
           {
            "colorbar": {
             "outlinewidth": 0,
             "ticks": ""
            },
            "type": "mesh3d"
           }
          ],
          "parcoords": [
           {
            "line": {
             "colorbar": {
              "outlinewidth": 0,
              "ticks": ""
             }
            },
            "type": "parcoords"
           }
          ],
          "pie": [
           {
            "automargin": true,
            "type": "pie"
           }
          ],
          "scatter": [
           {
            "fillpattern": {
             "fillmode": "overlay",
             "size": 10,
             "solidity": 0.2
            },
            "type": "scatter"
           }
          ],
          "scatter3d": [
           {
            "line": {
             "colorbar": {
              "outlinewidth": 0,
              "ticks": ""
             }
            },
            "marker": {
             "colorbar": {
              "outlinewidth": 0,
              "ticks": ""
             }
            },
            "type": "scatter3d"
           }
          ],
          "scattercarpet": [
           {
            "marker": {
             "colorbar": {
              "outlinewidth": 0,
              "ticks": ""
             }
            },
            "type": "scattercarpet"
           }
          ],
          "scattergeo": [
           {
            "marker": {
             "colorbar": {
              "outlinewidth": 0,
              "ticks": ""
             }
            },
            "type": "scattergeo"
           }
          ],
          "scattergl": [
           {
            "marker": {
             "colorbar": {
              "outlinewidth": 0,
              "ticks": ""
             }
            },
            "type": "scattergl"
           }
          ],
          "scattermapbox": [
           {
            "marker": {
             "colorbar": {
              "outlinewidth": 0,
              "ticks": ""
             }
            },
            "type": "scattermapbox"
           }
          ],
          "scatterpolar": [
           {
            "marker": {
             "colorbar": {
              "outlinewidth": 0,
              "ticks": ""
             }
            },
            "type": "scatterpolar"
           }
          ],
          "scatterpolargl": [
           {
            "marker": {
             "colorbar": {
              "outlinewidth": 0,
              "ticks": ""
             }
            },
            "type": "scatterpolargl"
           }
          ],
          "scatterternary": [
           {
            "marker": {
             "colorbar": {
              "outlinewidth": 0,
              "ticks": ""
             }
            },
            "type": "scatterternary"
           }
          ],
          "surface": [
           {
            "colorbar": {
             "outlinewidth": 0,
             "ticks": ""
            },
            "colorscale": [
             [
              0,
              "#0d0887"
             ],
             [
              0.1111111111111111,
              "#46039f"
             ],
             [
              0.2222222222222222,
              "#7201a8"
             ],
             [
              0.3333333333333333,
              "#9c179e"
             ],
             [
              0.4444444444444444,
              "#bd3786"
             ],
             [
              0.5555555555555556,
              "#d8576b"
             ],
             [
              0.6666666666666666,
              "#ed7953"
             ],
             [
              0.7777777777777778,
              "#fb9f3a"
             ],
             [
              0.8888888888888888,
              "#fdca26"
             ],
             [
              1,
              "#f0f921"
             ]
            ],
            "type": "surface"
           }
          ],
          "table": [
           {
            "cells": {
             "fill": {
              "color": "#EBF0F8"
             },
             "line": {
              "color": "white"
             }
            },
            "header": {
             "fill": {
              "color": "#C8D4E3"
             },
             "line": {
              "color": "white"
             }
            },
            "type": "table"
           }
          ]
         },
         "layout": {
          "annotationdefaults": {
           "arrowcolor": "#2a3f5f",
           "arrowhead": 0,
           "arrowwidth": 1
          },
          "autotypenumbers": "strict",
          "coloraxis": {
           "colorbar": {
            "outlinewidth": 0,
            "ticks": ""
           }
          },
          "colorscale": {
           "diverging": [
            [
             0,
             "#8e0152"
            ],
            [
             0.1,
             "#c51b7d"
            ],
            [
             0.2,
             "#de77ae"
            ],
            [
             0.3,
             "#f1b6da"
            ],
            [
             0.4,
             "#fde0ef"
            ],
            [
             0.5,
             "#f7f7f7"
            ],
            [
             0.6,
             "#e6f5d0"
            ],
            [
             0.7,
             "#b8e186"
            ],
            [
             0.8,
             "#7fbc41"
            ],
            [
             0.9,
             "#4d9221"
            ],
            [
             1,
             "#276419"
            ]
           ],
           "sequential": [
            [
             0,
             "#0d0887"
            ],
            [
             0.1111111111111111,
             "#46039f"
            ],
            [
             0.2222222222222222,
             "#7201a8"
            ],
            [
             0.3333333333333333,
             "#9c179e"
            ],
            [
             0.4444444444444444,
             "#bd3786"
            ],
            [
             0.5555555555555556,
             "#d8576b"
            ],
            [
             0.6666666666666666,
             "#ed7953"
            ],
            [
             0.7777777777777778,
             "#fb9f3a"
            ],
            [
             0.8888888888888888,
             "#fdca26"
            ],
            [
             1,
             "#f0f921"
            ]
           ],
           "sequentialminus": [
            [
             0,
             "#0d0887"
            ],
            [
             0.1111111111111111,
             "#46039f"
            ],
            [
             0.2222222222222222,
             "#7201a8"
            ],
            [
             0.3333333333333333,
             "#9c179e"
            ],
            [
             0.4444444444444444,
             "#bd3786"
            ],
            [
             0.5555555555555556,
             "#d8576b"
            ],
            [
             0.6666666666666666,
             "#ed7953"
            ],
            [
             0.7777777777777778,
             "#fb9f3a"
            ],
            [
             0.8888888888888888,
             "#fdca26"
            ],
            [
             1,
             "#f0f921"
            ]
           ]
          },
          "colorway": [
           "#636efa",
           "#EF553B",
           "#00cc96",
           "#ab63fa",
           "#FFA15A",
           "#19d3f3",
           "#FF6692",
           "#B6E880",
           "#FF97FF",
           "#FECB52"
          ],
          "font": {
           "color": "#2a3f5f"
          },
          "geo": {
           "bgcolor": "white",
           "lakecolor": "white",
           "landcolor": "#E5ECF6",
           "showlakes": true,
           "showland": true,
           "subunitcolor": "white"
          },
          "hoverlabel": {
           "align": "left"
          },
          "hovermode": "closest",
          "mapbox": {
           "style": "light"
          },
          "paper_bgcolor": "white",
          "plot_bgcolor": "#E5ECF6",
          "polar": {
           "angularaxis": {
            "gridcolor": "white",
            "linecolor": "white",
            "ticks": ""
           },
           "bgcolor": "#E5ECF6",
           "radialaxis": {
            "gridcolor": "white",
            "linecolor": "white",
            "ticks": ""
           }
          },
          "scene": {
           "xaxis": {
            "backgroundcolor": "#E5ECF6",
            "gridcolor": "white",
            "gridwidth": 2,
            "linecolor": "white",
            "showbackground": true,
            "ticks": "",
            "zerolinecolor": "white"
           },
           "yaxis": {
            "backgroundcolor": "#E5ECF6",
            "gridcolor": "white",
            "gridwidth": 2,
            "linecolor": "white",
            "showbackground": true,
            "ticks": "",
            "zerolinecolor": "white"
           },
           "zaxis": {
            "backgroundcolor": "#E5ECF6",
            "gridcolor": "white",
            "gridwidth": 2,
            "linecolor": "white",
            "showbackground": true,
            "ticks": "",
            "zerolinecolor": "white"
           }
          },
          "shapedefaults": {
           "line": {
            "color": "#2a3f5f"
           }
          },
          "ternary": {
           "aaxis": {
            "gridcolor": "white",
            "linecolor": "white",
            "ticks": ""
           },
           "baxis": {
            "gridcolor": "white",
            "linecolor": "white",
            "ticks": ""
           },
           "bgcolor": "#E5ECF6",
           "caxis": {
            "gridcolor": "white",
            "linecolor": "white",
            "ticks": ""
           }
          },
          "title": {
           "x": 0.05
          },
          "xaxis": {
           "automargin": true,
           "gridcolor": "white",
           "linecolor": "white",
           "ticks": "",
           "title": {
            "standoff": 15
           },
           "zerolinecolor": "white",
           "zerolinewidth": 2
          },
          "yaxis": {
           "automargin": true,
           "gridcolor": "white",
           "linecolor": "white",
           "ticks": "",
           "title": {
            "standoff": 15
           },
           "zerolinecolor": "white",
           "zerolinewidth": 2
          }
         }
        },
        "xaxis": {
         "anchor": "y",
         "domain": [
          0,
          1
         ],
         "tickmode": "array",
         "ticktext": [
          "1K",
          "10K",
          "100K",
          "350K",
          "550K",
          "1M",
          "10M"
         ],
         "tickvals": [
          1000,
          10000,
          100000,
          350000,
          550000,
          1000000,
          10000000
         ],
         "title": {
          "text": "number_of_samples"
         },
         "type": "log"
        },
        "yaxis": {
         "anchor": "x",
         "domain": [
          0,
          1
         ],
         "title": {
          "text": "Average error among all TSVs"
         }
        }
       }
      }
     },
     "metadata": {},
     "output_type": "display_data"
    }
   ],
   "source": [
    "fig = px.line(avg_error_df, x='run_size', y=['total_option_error', 'total_group_error'], markers=True, log_x=True,\n",
    "              line_shape='spline')\n",
    "fig.update_layout(xaxis_title='number_of_samples', yaxis_title='Average error among all TSVs',\n",
    "                  xaxis = dict(\n",
    "                      tickmode = 'array',\n",
    "                      tickvals = [1000, 10000, 100000, 350000, 550000, 1000000, 10000000],\n",
    "                      ticktext = run_sizes\n",
    "                  ))\n",
    "fig.show()"
   ]
  }
 ],
 "metadata": {
  "kernelspec": {
   "display_name": "Python 3.10.6 ('bsb')",
   "language": "python",
   "name": "python3"
  },
  "language_info": {
   "codemirror_mode": {
    "name": "ipython",
    "version": 3
   },
   "file_extension": ".py",
   "mimetype": "text/x-python",
   "name": "python",
   "nbconvert_exporter": "python",
   "pygments_lexer": "ipython3",
   "version": "3.10.6"
  },
  "orig_nbformat": 4,
  "vscode": {
   "interpreter": {
    "hash": "af11289131f4360426b927b1b88e89ad45ab2e40c86980e15d4f2ea48e36f47b"
   }
  }
 },
 "nbformat": 4,
 "nbformat_minor": 2
}
